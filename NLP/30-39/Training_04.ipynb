{
 "cells": [
  {
   "attachments": {},
   "cell_type": "markdown",
   "metadata": {},
   "source": [
    "## 第4章: 形態素解析\n",
    "夏目漱石の小説『吾輩は猫である』の文章（neko.txt）をMeCabを使って形態素解析し，その結果をneko.txt.mecabというファイルに保存せよ．このファイルを用いて，以下の問に対応するプログラムを実装せよ．"
   ]
  },
  {
   "cell_type": "code",
   "execution_count": 10,
   "metadata": {},
   "outputs": [
    {
     "name": "stdout",
     "output_type": "stream",
     "text": [
      "一\n",
      "\n",
      "　吾輩は猫である。\n",
      "名前はまだ無い。\n",
      "\n",
      "　どこで生れたかとんと見当がつかぬ。\n",
      "何でも薄暗いじめじめした所でニャーニャー泣いていた事だけは記憶している。\n",
      "吾輩はここで始めて人間というものを見た。\n",
      "しかもあとで聞くとそれは書生という人間中で一番獰悪な種族であったそうだ。\n",
      "この書生というのは時々我々を捕えて煮て食うという話である。\n",
      "しかしその当時は何という考もなかったから別段恐しいとも思わなかった。\n",
      "ただ彼の掌に載せられてスーと持ち上げられた時何だかフワフワした感じがあったばかりである。\n",
      "掌の上で少し落ちついて書生の顔を見たのがいわゆる人間というものの見始であろう。\n",
      "この時妙なものだと思った感じが今でも残っている。\n",
      "第一毛をもって装飾されべきはずの顔がつるつるしてまるで薬缶だ。\n"
     ]
    }
   ],
   "source": [
    "# 先頭15行の確認\n",
    "!head -15 ./neko.txt"
   ]
  },
  {
   "cell_type": "code",
   "execution_count": 11,
   "metadata": {},
   "outputs": [],
   "source": [
    "!mecab -o ./neko.txt.mecab ./neko.txt"
   ]
  },
  {
   "attachments": {},
   "cell_type": "markdown",
   "metadata": {},
   "source": [
    "### 30. 形態素解析結果の読み込み\n",
    "形態素解析結果（neko.txt.mecab）を読み込むプログラムを実装せよ．  \n",
    "ただし，各形態素は表層形（surface），基本形（base），品詞（pos），品詞細分類1（pos1）をキーとするマッピング型に格納し，1文を形態素（マッピング型）のリストとして表現せよ．  \n",
    "第4章の残りの問題では，ここで作ったプログラムを活用せよ．"
   ]
  },
  {
   "cell_type": "code",
   "execution_count": 21,
   "metadata": {},
   "outputs": [
    {
     "name": "stdout",
     "output_type": "stream",
     "text": [
      "{'surface': '\\u3000', 'base': '\\u3000', 'pos': '記号', 'pos1': '空白'}\n",
      "{'surface': '吾輩', 'base': '吾輩', 'pos': '名詞', 'pos1': '代名詞'}\n",
      "{'surface': 'は', 'base': 'は', 'pos': '助詞', 'pos1': '係助詞'}\n",
      "{'surface': '猫', 'base': '猫', 'pos': '名詞', 'pos1': '一般'}\n",
      "{'surface': 'で', 'base': 'だ', 'pos': '助動詞', 'pos1': '*'}\n",
      "{'surface': 'ある', 'base': 'ある', 'pos': '助動詞', 'pos1': '*'}\n",
      "{'surface': '。', 'base': '。', 'pos': '記号', 'pos1': '句点'}\n"
     ]
    }
   ],
   "source": [
    "filename = './neko.txt.mecab'\n",
    "\n",
    "sentences = []\n",
    "morphs = []\n",
    "\n",
    "with open(filename, 'r') as f:\n",
    "    # １行ずつ読み取っていく\n",
    "    for line in f:\n",
    "        # その１行が文末でない場合...\n",
    "        if line != 'EOS\\n':\n",
    "            # タブで文章を分ける\n",
    "            fields = line.split('\\t')\n",
    "            if len(fields) != 2 or fields[0] == '':\n",
    "                continue\n",
    "            else:\n",
    "                attr =  fields[1].split(',')\n",
    "                morph = {'surface': fields[0], 'base': attr[6], 'pos': attr[0], 'pos1': attr[1]}\n",
    "                morphs.append(morph)\n",
    "        else:\n",
    "            sentences.append(morphs)\n",
    "            morphs = []\n",
    "\n",
    "# 確認\n",
    "for morph in sentences[2]:\n",
    "    print(morph)\n",
    "\n"
   ]
  },
  {
   "attachments": {},
   "cell_type": "markdown",
   "metadata": {},
   "source": [
    "### 31. 動詞\n",
    "動詞の表層形をすべて抽出せよ．"
   ]
  },
  {
   "cell_type": "code",
   "execution_count": 25,
   "metadata": {},
   "outputs": [
    {
     "name": "stdout",
     "output_type": "stream",
     "text": [
      "動詞の表層形の種類: 3893\n",
      "\n",
      "除き\n",
      "恥ずる\n",
      "張り切れ\n",
      "すぎる\n",
      "たべ\n",
      "勝ち\n",
      "悟っ\n",
      "捻る\n",
      "載っけ\n",
      "こめ\n"
     ]
    }
   ],
   "source": [
    "# set型は重複を許さないので、どんどん追加していく\n",
    "ans = set()\n",
    "for sentence in sentences:\n",
    "    for morph in sentence:\n",
    "        if morph['pos'] == '動詞':\n",
    "          ans.add(morph['surface'])\n",
    "# 確認\n",
    "print(f'動詞の表層形の種類: {len(ans)}\\n')\n",
    "for v in list(ans)[:10]:\n",
    "  print(v)"
   ]
  },
  {
   "attachments": {},
   "cell_type": "markdown",
   "metadata": {},
   "source": [
    "### 32. 動詞の原形\n",
    "動詞の基本形をすべて抽出せよ．"
   ]
  },
  {
   "cell_type": "code",
   "execution_count": 26,
   "metadata": {},
   "outputs": [
    {
     "name": "stdout",
     "output_type": "stream",
     "text": [
      "動詞の表層形の種類: 2300\n",
      "\n",
      "打殺す\n",
      "調べる\n",
      "すぎる\n",
      "あらう\n",
      "面す\n",
      "捻る\n",
      "壊れる\n",
      "乗り出す\n",
      "勧める\n",
      "乗り越す\n"
     ]
    }
   ],
   "source": [
    "# set型は重複を許さないので、どんどん追加していく\n",
    "ans = set()\n",
    "for sentence in sentences:\n",
    "    for morph in sentence:\n",
    "        if morph['pos'] == '動詞':\n",
    "          ans.add(morph['base'])\n",
    "# 確認\n",
    "print(f'動詞の表層形の種類: {len(ans)}\\n')\n",
    "for v in list(ans)[:10]:\n",
    "  print(v)"
   ]
  },
  {
   "attachments": {},
   "cell_type": "markdown",
   "metadata": {},
   "source": [
    "### 33. 「AのB」\n",
    "2つの名詞が「の」で連結されている名詞句を抽出せよ．"
   ]
  },
  {
   "cell_type": "code",
   "execution_count": 28,
   "metadata": {},
   "outputs": [
    {
     "name": "stdout",
     "output_type": "stream",
     "text": [
      "「名詞+の+名詞」の種類: 4924\n",
      "\n",
      "毛の先\n",
      "以上の感想\n",
      "以上の思想\n",
      "渇仰の極致\n",
      "売薬のよう\n",
      "無上の名誉\n",
      "袋の中\n",
      "向きの六\n",
      "主人の許\n",
      "背中の方\n"
     ]
    }
   ],
   "source": [
    "# set型は重複を許さないので、どんどん追加していく\n",
    "ans = set()\n",
    "for sentence in sentences:\n",
    "    for i in range(1, len(sentence)-1):\n",
    "        if sentence[i-1]['pos'] == '名詞' and sentence[i]['surface'] == 'の' and sentence[i+1]['pos'] == '名詞':\n",
    "            ans.add(sentence[i - 1]['surface'] + sentence[i]['surface'] + sentence[i + 1]['surface'])\n",
    "\n",
    "# 確認\n",
    "print(f'「名詞+の+名詞」の種類: {len(ans)}\\n')\n",
    "for n in list(ans)[:10]:\n",
    "  print(n)"
   ]
  },
  {
   "attachments": {},
   "cell_type": "markdown",
   "metadata": {},
   "source": [
    "### 34. 名詞の連接\n",
    "名詞の連接（連続して出現する名詞）を最長一致（テキストを解析する際に最長の形態素を優先的に選ぶ手法）で抽出せよ．"
   ]
  },
  {
   "cell_type": "code",
   "execution_count": 29,
   "metadata": {},
   "outputs": [
    {
     "name": "stdout",
     "output_type": "stream",
     "text": [
      "連接名詞の種類: 4457\n",
      "\n",
      "食饌\n",
      "甘木医学士\n",
      "日露戦争時代\n",
      "それ天狗\n",
      "事件以来胸糞\n",
      "三四冊\n",
      "鉄気\n",
      "女客\n",
      "毎日喧嘩\n",
      "金田夫婦\n"
     ]
    }
   ],
   "source": [
    "ans = set()\n",
    "for sentence in sentences:\n",
    "  # 連結するための変数を用意\n",
    "  nouns = ''\n",
    "  # いくつ連結したのかを計算\n",
    "  num = 0\n",
    "\n",
    "  for morph in sentence:\n",
    "\n",
    "    # 最初の形態素から順に、名詞であればnounsに連結し、連結数(num)をカウント\n",
    "    if morph['pos'] == '名詞':\n",
    "      nouns = ''.join([nouns, morph['surface']])\n",
    "      num += 1\n",
    "\n",
    "    # 名詞以外、かつここまでの連結数が2以上の場合は出力し、nounsとnumを初期化\n",
    "    elif num >= 2:\n",
    "      ans.add(nouns)\n",
    "      nouns = ''\n",
    "      num = 0\n",
    "\n",
    "    # それ以外の場合、nounsとnumを初期化\n",
    "    else:\n",
    "      nouns = ''\n",
    "      num = 0\n",
    "\n",
    "  # 連結した名詞なら、それを保存\n",
    "  if num >= 2:\n",
    "    ans.add(nouns)\n",
    "\n",
    "# 確認\n",
    "print(f'連接名詞の種類: {len(ans)}\\n')\n",
    "for n in list(ans)[:10]:\n",
    "  print(n)"
   ]
  },
  {
   "attachments": {},
   "cell_type": "markdown",
   "metadata": {},
   "source": [
    "### 35. 単語の出現頻度\n",
    "文章中に出現する単語とその出現頻度を求め，出現頻度の高い順に並べよ．"
   ]
  },
  {
   "cell_type": "code",
   "execution_count": 32,
   "metadata": {},
   "outputs": [
    {
     "name": "stdout",
     "output_type": "stream",
     "text": [
      "('の', 9194)\n",
      "('て', 6848)\n",
      "('は', 6420)\n",
      "('に', 6243)\n",
      "('を', 6071)\n",
      "('だ', 5972)\n",
      "('と', 5508)\n",
      "('が', 5337)\n",
      "('た', 4267)\n",
      "('する', 3657)\n"
     ]
    }
   ],
   "source": [
    "from collections import defaultdict\n",
    "\n",
    "# intをデフォルト値とするdefaultdictを生成\n",
    "# int()は0を返すため、存在しないキーにアクセスしたときのデフォルト値は0となる\n",
    "ans = defaultdict(int)\n",
    "for sentence in sentences:\n",
    "  for morph in sentence:\n",
    "    if morph['pos'] != '記号':\n",
    "      # 単語数を増やす\n",
    "      ans[morph['base']] += 1\n",
    "\n",
    "# 大きい順にソート\n",
    "ans = sorted(ans.items(), key=lambda x: x[1], reverse=True)\n",
    "\n",
    "# 確認\n",
    "for w in ans[:10]:\n",
    "  print(w)"
   ]
  },
  {
   "attachments": {},
   "cell_type": "markdown",
   "metadata": {},
   "source": [
    "### 36. 頻度上位10語\n",
    "出現頻度が高い10語とその出現頻度をグラフ（例えば棒グラフなど）で表示せよ．"
   ]
  },
  {
   "cell_type": "code",
   "execution_count": 34,
   "metadata": {},
   "outputs": [
    {
     "data": {
      "image/png": "[encoded data removed]",
      "text/plain": [
       "<Figure size 800x400 with 1 Axes>"
      ]
     },
     "metadata": {},
     "output_type": "display_data"
    }
   ],
   "source": [
    "import matplotlib.pyplot as plt\n",
    "import japanize_matplotlib\n",
    "from collections import defaultdict\n",
    "\n",
    "# intをデフォルト値とするdefaultdictを生成\n",
    "# int()は0を返すため、存在しないキーにアクセスしたときのデフォルト値は0となる\n",
    "ans = defaultdict(int)\n",
    "for sentence in sentences:\n",
    "  for morph in sentence:\n",
    "    if morph['pos'] != '記号':\n",
    "      # 単語数を増やす\n",
    "      ans[morph['base']] += 1\n",
    "\n",
    "# 大きい順にソート\n",
    "ans = sorted(ans.items(), key=lambda x: x[1], reverse=True)\n",
    "\n",
    "# 棒グラフとして表示\n",
    "keys = [a[0] for a in ans[0:10]]\n",
    "values = [a[1] for a in ans[0:10]]\n",
    "plt.figure(figsize=(8, 4))\n",
    "plt.bar(keys, values)\n",
    "plt.show()"
   ]
  },
  {
   "attachments": {},
   "cell_type": "markdown",
   "metadata": {},
   "source": [
    "### 37. 「猫」と共起頻度の高い上位10語\n",
    "「猫」とよく共起する（共起頻度が高い）10語とその出現頻度をグラフ（例えば棒グラフなど）で表示せよ．"
   ]
  },
  {
   "cell_type": "code",
   "execution_count": 37,
   "metadata": {},
   "outputs": [
    {
     "data": {
      "image/png": "[encoded data removed]",
      "text/plain": [
       "<Figure size 800x400 with 1 Axes>"
      ]
     },
     "metadata": {},
     "output_type": "display_data"
    }
   ],
   "source": [
    "import matplotlib.pyplot as plt\n",
    "import japanize_matplotlib\n",
    "from collections import defaultdict\n",
    "\n",
    "# intをデフォルト値とするdefaultdictを生成\n",
    "# int()は0を返すため、存在しないキーにアクセスしたときのデフォルト値は0となる\n",
    "ans = defaultdict(int)\n",
    "for sentence in sentences:\n",
    "  if '猫' in [morph['surface'] for morph in sentence]:\n",
    "    for morph in sentence:\n",
    "      if morph['pos'] != '記号':\n",
    "        if morph['pos'] != '助詞':\n",
    "          # 単語数を増やす\n",
    "          ans[morph['base']] += 1\n",
    "\n",
    "# 大きい順にソート\n",
    "ans = sorted(ans.items(), key=lambda x: x[1], reverse=True)\n",
    "\n",
    "# 棒グラフとして表示\n",
    "keys = [a[0] for a in ans[0:10]]\n",
    "values = [a[1] for a in ans[0:10]]\n",
    "plt.figure(figsize=(8, 4))\n",
    "plt.bar(keys, values)\n",
    "plt.show()"
   ]
  },
  {
   "attachments": {},
   "cell_type": "markdown",
   "metadata": {},
   "source": [
    "### 38. ヒストグラム\n",
    "単語の出現頻度のヒストグラム（横軸に出現頻度，縦軸に出現頻度をとる単語の種類数を棒グラフで表したもの）を描け．"
   ]
  },
  {
   "cell_type": "code",
   "execution_count": 38,
   "metadata": {},
   "outputs": [
    {
     "data": {
      "image/png": "[encoded data removed]",
      "text/plain": [
       "<Figure size 800x400 with 1 Axes>"
      ]
     },
     "metadata": {},
     "output_type": "display_data"
    }
   ],
   "source": [
    "ans = defaultdict(int)\n",
    "for sentence in sentences:\n",
    "  for morph in sentence:\n",
    "    if morph['pos'] != '記号':\n",
    "      # 単語数を増やす\n",
    "      ans[morph['base']] += 1\n",
    "\n",
    "# 個数を算出\n",
    "ans = ans.values()\n",
    "\n",
    "plt.figure(figsize=(8, 4))\n",
    "plt.hist(ans, bins=100)\n",
    "plt.xlabel('出現頻度')\n",
    "plt.ylabel('単語の種類数')\n",
    "plt.show()"
   ]
  },
  {
   "attachments": {},
   "cell_type": "markdown",
   "metadata": {},
   "source": [
    "### 39. Zipfの法則\n",
    "単語の出現頻度順位を横軸，その出現頻度を縦軸として，両対数グラフをプロットせよ．"
   ]
  },
  {
   "cell_type": "code",
   "execution_count": 39,
   "metadata": {},
   "outputs": [
    {
     "data": {
      "image/png": "[encoded data removed]",
      "text/plain": [
       "<Figure size 800x400 with 1 Axes>"
      ]
     },
     "metadata": {},
     "output_type": "display_data"
    }
   ],
   "source": [
    "ans = defaultdict(int)\n",
    "for sentence in sentences:\n",
    "  for morph in sentence:\n",
    "    if morph['pos'] != '記号':\n",
    "      # 単語数を増やす\n",
    "      ans[morph['base']] += 1\n",
    "\n",
    "# 大きい順にソート\n",
    "ans = sorted(ans.items(), key=lambda x: x[1], reverse=True)\n",
    "\n",
    "ranks = [r + 1 for r in range(len(ans))]\n",
    "values = [a[1] for a in ans]\n",
    "plt.figure(figsize=(8, 4))\n",
    "plt.scatter(ranks, values)\n",
    "plt.xscale('log')\n",
    "plt.yscale('log')\n",
    "plt.xlabel('出現頻度順位')\n",
    "plt.ylabel('出現頻度')\n",
    "plt.show()"
   ]
  }
 ],
 "metadata": {
  "kernelspec": {
   "display_name": "100knock",
   "language": "python",
   "name": "python3"
  },
  "language_info": {
   "codemirror_mode": {
    "name": "ipython",
    "version": 3
   },
   "file_extension": ".py",
   "mimetype": "text/x-python",
   "name": "python",
   "nbconvert_exporter": "python",
   "pygments_lexer": "ipython3",
   "version": "3.9.0"
  },
  "orig_nbformat": 4
 },
 "nbformat": 4,
 "nbformat_minor": 2
}
