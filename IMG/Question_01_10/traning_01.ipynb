{
 "cells": [
  {
   "attachments": {},
   "cell_type": "markdown",
   "metadata": {},
   "source": [
    "## Q.1. チャネル入れ替え\n",
    "\n",
    "画像を読み込み、BGRをRGBの順に入れ替えよ。\n",
    "\n",
    "画像の赤成分を取り出すには、以下のコードで可能。\n",
    "cv2.imread()関数ではチャネルがBGRの順になることに注意！\n",
    "これで変数redにimori.jpgの赤成分のみが入る。\n",
    "\n",
    "```python\n",
    "import cv2\n",
    "img = cv2.imread(\"imori.jpg\")\n",
    "red = img[:, :, 2].copy()\n",
    "```"
   ]
  },
  {
   "cell_type": "code",
   "execution_count": 9,
   "metadata": {},
   "outputs": [
    {
     "data": {
      "text/plain": [
       "True"
      ]
     },
     "execution_count": 9,
     "metadata": {},
     "output_type": "execute_result"
    }
   ],
   "source": [
    "import cv2\n",
    "\n",
    "# 画像の読み込み\n",
    "img = cv2.imread(\"imori.jpg\")\n",
    "\n",
    "# それぞれの値を格納する\n",
    "Red = img[:,:,2].copy()\n",
    "Blue = img[:,:,0].copy()\n",
    "Green = img[:,:,1].copy()\n",
    "\n",
    "# サイズをコピーする\n",
    "img_RGB = img\n",
    "\n",
    "# 付け替える\n",
    "img_RGB[:,:,0] = Red\n",
    "img_RGB[:,:,1] = Green\n",
    "img_RGB[:,:,2] = Blue\n",
    "\n",
    "# 保存して確認\n",
    "cv2.imwrite(\"training_IMG/training_01.png\",img_RGB)"
   ]
  },
  {
   "cell_type": "code",
   "execution_count": 10,
   "metadata": {},
   "outputs": [],
   "source": [
    "%reset -f"
   ]
  },
  {
   "attachments": {},
   "cell_type": "markdown",
   "metadata": {},
   "source": [
    "## Q.2. グレースケール化\n",
    "\n",
    "画像をグレースケールにせよ。\n",
    "グレースケールとは、画像の輝度表現方法の一種であり下式で計算される。\n",
    "\n",
    "Y = 0.2126 R + 0.7152 G + 0.0722 B"
   ]
  },
  {
   "cell_type": "code",
   "execution_count": 11,
   "metadata": {},
   "outputs": [
    {
     "data": {
      "text/plain": [
       "True"
      ]
     },
     "execution_count": 11,
     "metadata": {},
     "output_type": "execute_result"
    }
   ],
   "source": [
    "import cv2\n",
    "import numpy as np\n",
    "\n",
    "img = cv2.imread(\"imori.jpg\")\n",
    "\n",
    "# グレースケール化\n",
    "img_Y = 0.2126*img[:,:,2] + 0.7152*img[:,:,1] + 0.0722*img[:,:,0]\n",
    "\n",
    "# 変数の型を unit8 にして次元をまとめる\n",
    "img_Y = np.expand_dims(img_Y.astype(np.uint8), axis=-1)\n",
    "\n",
    "# 保存して確認する\n",
    "cv2.imwrite(\"training_IMG/training_02.png\",img_Y)"
   ]
  },
  {
   "cell_type": "code",
   "execution_count": 12,
   "metadata": {},
   "outputs": [],
   "source": [
    "%reset -f"
   ]
  },
  {
   "attachments": {},
   "cell_type": "markdown",
   "metadata": {},
   "source": [
    "## Q.3. 二値化\n",
    "\n",
    "画像を二値化せよ。\n",
    "二値化とは、画像を黒と白の二値で表現する方法である。\n",
    "ここでは、グレースケールにおいて閾値を128に設定し、下式で二値化する。\n",
    "\n",
    "```bash\n",
    "y = { 0 (if y < 128)\n",
    "     255 (else) }\n",
    "```"
   ]
  },
  {
   "cell_type": "code",
   "execution_count": 13,
   "metadata": {},
   "outputs": [
    {
     "data": {
      "text/plain": [
       "True"
      ]
     },
     "execution_count": 13,
     "metadata": {},
     "output_type": "execute_result"
    }
   ],
   "source": [
    "import cv2\n",
    "import numpy as np\n",
    "\n",
    "img = cv2.imread(\"imori.jpg\")\n",
    "\n",
    "# グレースケール化\n",
    "img_Y = 0.3*img[:,:,2] + 0.59*img[:,:,1] + 0.11*img[:,:,0]\n",
    "img_Y = np.expand_dims(img_Y.astype(np.uint8), axis=-1)\n",
    "\n",
    "# ２値化\n",
    "img_Y[img_Y < 128] = 0\n",
    "img_Y[img_Y >= 128] = 255\n",
    "\n",
    "# 保存して確認する\n",
    "cv2.imwrite(\"training_IMG/training_03.png\",img_Y)"
   ]
  },
  {
   "attachments": {},
   "cell_type": "markdown",
   "metadata": {},
   "source": [
    "## Q.4. 大津の二値化\n",
    "\n",
    "大津の二値化を実装せよ。\n",
    "大津の二値化とは判別分析法と呼ばれ、二値化における分離の閾値を自動決定する手法である。\n",
    "これは**クラス内分散**と**クラス間分散**の比から計算される。\n",
    "\n",
    "グレースケールの輝度値（ピクセルの値）のヒストグラムはこうなる。\n",
    "\n",
    "```python\n",
    "import cv2\n",
    "import matplotlib.pyplot as plt\n",
    "img = cv2.imread('assets/imori.jpg')\n",
    "gray = 0.2126 * img[..., 2] + 0.7152 * img[..., 1] + 0.0722 * img[..., 0]\n",
    "plt.hist(gray.ravel(), bins=255, rwidth=0.8, range=(0, 255))\n",
    "plt.xlabel('value')\n",
    "plt.ylabel('appearance')\n",
    "plt.show()\n",
    "```\n",
    "\n",
    "<img src=\"assets/histogram-Gray.jpg\" width=400>\n",
    "\n",
    "二値化はある値を境界にして、０か１にする方法だけど、\n",
    "\n",
    "- 閾値t未満をクラス0, t以上をクラス1とする。\n",
    "- w0, w1 ... 閾値tにより分離された各クラスの画素数の割合 (w0 + w1 = 1を満たす)\n",
    "- S0^2, S1^2 ... 各クラスの画素値の分散\n",
    "- M0, M1 ... 各クラスの画素値の平均値\n",
    "\n",
    "<img src=\"assets/histogram-Gray-1.png\" width=400>\n",
    "\n",
    "とすると、\n",
    "\n",
    "<img src=\"assets/otsu_binary_1.png\" width=500>\n",
    "\n",
    "となり、分離度Xは次式で定義される。\n",
    "\n",
    "<img src=\"assets/otsu_binary_2.png\" width=300>\n",
    "\n",
    "<!--\n",
    "```bash\n",
    "クラス内分散 Sw^2 = w0 * S0^2 + w1 * S1^2\n",
    "クラス間分散 Sb^2 = w0 * (M0 - Mt)^2 + w1 * (M1 - Mt)^2 = w0 * w1 * (M0 - M1) ^2\n",
    "画像全体の画素の分散 St^2 = Sw^2 + Sb^2 = (const)\n",
    "以上より、分離度は次式で定義される。\n",
    "分離度 X = Sb^2 / Sw^2 = Sb^2 / (St^2 - Sb^2)\n",
    "```\n",
    "-->\n",
    "\n",
    "となるので、\n",
    "\n",
    "<img src=\"assets/otsu_binary_3.png\" width=300>\n",
    "\n",
    "<!--\n",
    "```bash\n",
    "argmax_{t} X = argmax_{t} Sb^2\n",
    "```\n",
    "-->\n",
    "\n",
    "\n",
    "となる。すなわち、Sb^2 =  w0 * w1 * (M0 - M1) ^2 が最大となる、閾値tを二値化の閾値とすれば良い。\n"
   ]
  },
  {
   "cell_type": "code",
   "execution_count": 14,
   "metadata": {},
   "outputs": [
    {
     "name": "stdout",
     "output_type": "stream",
     "text": [
      "最適な閾値は 127\n"
     ]
    },
    {
     "name": "stderr",
     "output_type": "stream",
     "text": [
      "/Users/graduser/.anyenv/envs/pyenv/versions/miniforge3-22.11.1-4/envs/100knock/lib/python3.9/site-packages/numpy/core/fromnumeric.py:3464: RuntimeWarning: Mean of empty slice.\n",
      "  return _methods._mean(a, axis=axis, dtype=dtype,\n",
      "/Users/graduser/.anyenv/envs/pyenv/versions/miniforge3-22.11.1-4/envs/100knock/lib/python3.9/site-packages/numpy/core/_methods.py:192: RuntimeWarning: invalid value encountered in scalar divide\n",
      "  ret = ret.dtype.type(ret / rcount)\n"
     ]
    },
    {
     "data": {
      "text/plain": [
       "True"
      ]
     },
     "execution_count": 14,
     "metadata": {},
     "output_type": "execute_result"
    }
   ],
   "source": [
    "import cv2\n",
    "import numpy as np\n",
    "\n",
    "img = cv2.imread(\"imori.jpg\")\n",
    "\n",
    "# グレースケール化\n",
    "img_Y = 0.2126*img[:,:,2] + 0.7152*img[:,:,1] + 0.0722*img[:,:,0]\n",
    "img_Y = np.expand_dims(img_Y.astype(np.uint8), axis=-1)\n",
    "\n",
    "# 大津の２値化のための閾値探し\n",
    "max_Sb2 = 0\n",
    "max_t = 0\n",
    "H, W, C = img.shape\n",
    "for t in range(0,256):\n",
    "    # 閾値以上か未満で2値化\n",
    "    v0 = img_Y[np.where(img_Y < t)]\n",
    "    v1 = img_Y[np.where(img_Y >= t)]\n",
    "\n",
    "    # 各クラスの画素数の割合を算出\n",
    "    w0 = len(v0) / (H*W)\n",
    "    w1 = len(v1) / (H*W)\n",
    "\n",
    "    # 各クラスの画素数の平均を算出\n",
    "    m0 = np.mean(v0) if len(v0) > 0 else 0\n",
    "    m1 = np.mean(v1) if len(v0) > 0 else 0\n",
    "\n",
    "    # 判定式\n",
    "    tmp_Sb2 = w0*w1*(m0-m1)**2\n",
    "    if tmp_Sb2 > max_Sb2:\n",
    "        max_Sb2 = tmp_Sb2\n",
    "        max_t = t\n",
    "\n",
    "print(\"最適な閾値は\",max_t)\n",
    "\n",
    "# 最適な閾値で２値化\n",
    "img_Y[img_Y < max_t] = 0\n",
    "img_Y[img_Y >= max_t] = 255\n",
    "\n",
    "# 保存して確認する\n",
    "cv2.imwrite(\"training_IMG/training_04.png\",img_Y)"
   ]
  },
  {
   "cell_type": "code",
   "execution_count": null,
   "metadata": {},
   "outputs": [],
   "source": []
  }
 ],
 "metadata": {
  "kernelspec": {
   "display_name": "100knock",
   "language": "python",
   "name": "python3"
  },
  "language_info": {
   "codemirror_mode": {
    "name": "ipython",
    "version": 3
   },
   "file_extension": ".py",
   "mimetype": "text/x-python",
   "name": "python",
   "nbconvert_exporter": "python",
   "pygments_lexer": "ipython3",
   "version": "3.9.0"
  },
  "orig_nbformat": 4
 },
 "nbformat": 4,
 "nbformat_minor": 2
}
