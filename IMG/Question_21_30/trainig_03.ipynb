{
 "cells": [
  {
   "attachments": {},
   "cell_type": "markdown",
   "metadata": {},
   "source": [
    "## Q.21. ヒストグラム正規化\n",
    "\n",
    "#### Histogram normalization\n",
    "\n",
    "ヒストグラム正規化を実装せよ。\n",
    "\n",
    "ヒストグラムは偏りを持っていることが伺える。\n",
    "例えば、0に近い画素が多ければ画像は全体的に暗く、255に近い画素が多ければ画像は明るくなる。\n",
    "ヒストグラムが局所的に偏っていることを**ダイナミックレンジが狭い**などと表現する。\n",
    "そのため画像を人の目に見やすくするために、ヒストグラムを正規化したり平坦化したりなどの処理が必要である。\n",
    "\n",
    "このヒストグラム正規化は**濃度階調変換(gray-scale transformation)** と呼ばれ、[c,d]の画素値を持つ画像を[a,b]のレンジに変換する場合は次式で実現できる。\n",
    "今回は*imori_dark.jpg*を[0, 255]のレンジにそれぞれ変換する。\n",
    "\n",
    "<img src=\"assets/hist_norm_equ.png\" width=\"400\">\n",
    "\n",
    "<!--\n",
    "```bash\n",
    "xout = {  a                         (xin < c)\n",
    "         (b-a)/(d-c) * (xin-c) + a  (c <= xin <= d)\n",
    "          b                         (d < xin)\n",
    "```\n",
    "-->"
   ]
  },
  {
   "cell_type": "code",
   "execution_count": null,
   "metadata": {},
   "outputs": [],
   "source": [
    "import cv2\n",
    "import numpy as np\n",
    "import matplotlib.pyplot as plt\n",
    "\n",
    "img = cv2.imread(\"imori_dark.jpg\").astype(np.float32)\n",
    "\n",
    "a = 0\n",
    "b = 255\n",
    "\n",
    "c = img.min()\n",
    "d = img.max()\n",
    "\n",
    "out = (b-a)/(d-c)*(img-c)+a\n",
    "out[img<c] = a\n",
    "out[img>d] = b\n",
    "\n",
    "plt.hist(out.ravel(), bins=255, rwidth=0.8, range=(0, 255))\n",
    "plt.savefig(\"training_IMG/training_21_hist.png\")\n",
    "plt.show()\n",
    "\n",
    "cv2.imwrite(\"training_IMG/training_21.png\", out)"
   ]
  },
  {
   "cell_type": "code",
   "execution_count": null,
   "metadata": {},
   "outputs": [],
   "source": [
    "%reset -f"
   ]
  },
  {
   "attachments": {},
   "cell_type": "markdown",
   "metadata": {},
   "source": [
    "## Q.22. ヒストグラム操作\n",
    "\n",
    "ヒストグラムの平均値をm0=128、標準偏差をs0=52になるように操作せよ。\n",
    "\n",
    "これはヒストグラムのダイナミックレンジを変更するのではなく、ヒストグラムを平坦に変更する操作である。\n",
    "\n",
    "平均値m、標準偏差s、のヒストグラムを平均値m0, 標準偏差s0に変更するには、次式によって変換する。\n",
    "\n",
    "<img src=\"assets/hist_mani_equ.png\" width=\"200\">\n",
    "\n",
    "<!--\n",
    "```bash\n",
    "xout = s0 / s * (xin - m) + m0\n",
    "```\n",
    "-->\n"
   ]
  },
  {
   "cell_type": "code",
   "execution_count": null,
   "metadata": {},
   "outputs": [],
   "source": [
    "import cv2\n",
    "import numpy as np\n",
    "import matplotlib.pyplot as plt\n",
    "\n",
    "img = cv2.imread(\"imori_dark.jpg\").astype(np.float32)\n",
    "\n",
    "m0 = 128\n",
    "s0 = 52\n",
    "\n",
    "m = np.mean(img)\n",
    "s = np.std(img)\n",
    "\n",
    "out = s0/s*(img-m)+m0\n",
    "out[out<0] = 0\n",
    "out[out>255] = 255\n",
    "out = out.astype(np.uint8)\n",
    "\n",
    "plt.hist(out.ravel(), bins=255, rwidth=0.8, range=(0, 255))\n",
    "plt.savefig(\"training_IMG/training_22_hist.png\")\n",
    "plt.show()\n",
    "\n",
    "cv2.imwrite(\"training_IMG/training_22.png\", out)"
   ]
  },
  {
   "cell_type": "code",
   "execution_count": null,
   "metadata": {},
   "outputs": [],
   "source": [
    "%reset -f"
   ]
  },
  {
   "attachments": {},
   "cell_type": "markdown",
   "metadata": {},
   "source": [
    "## Q.23. ヒストグラム平坦化\n",
    "\n",
    "#### Histogram equalization\n",
    "\n",
    "ヒストグラム平坦化を実装せよ。\n",
    "\n",
    "ヒストグラム平坦化とはヒストグラムを平坦に変更する操作であり、上記の平均値や標準偏差などを必要とせず、ヒストグラム値を均衡にする操作である。\n",
    "\n",
    "これは次式で定義される。\n",
    "ただし、S ... 画素値の総数、Zmax ... 画素値の最大値、h(z) ... 濃度zの度数\n",
    "\n",
    "<img src=\"assets/hist_equ_equ.png\" width=\"200\">\n",
    "\n",
    "<!--\n",
    "```bash\n",
    "Z' = Zmax / S * Sum{i=0:z} h(z)\n",
    "```\n",
    "-->\n"
   ]
  },
  {
   "cell_type": "code",
   "execution_count": null,
   "metadata": {},
   "outputs": [],
   "source": [
    "import cv2\n",
    "import numpy as np\n",
    "import matplotlib.pyplot as plt\n",
    "\n",
    "img = cv2.imread(\"imori_dark.jpg\").astype(np.float32)\n",
    "H, W, C = img.shape\n",
    "S = H * W * C * 1.\n",
    "z_max = 255\n",
    "sum_h = 0.\n",
    "\n",
    "out = img.copy()\n",
    "for i in range(1, 255):\n",
    "    ind = np.where(img == i) # 同じ値のインデックスを抽出\n",
    "    sum_h += len(img[ind]) # 同じ値が何個あるか確認 = これが度数\n",
    "    z_prime = z_max / S * sum_h\n",
    "    out[ind] = z_prime\n",
    "\n",
    "out = out.astype(np.uint8)\n",
    "\n",
    "plt.hist(out.ravel(), bins=255, rwidth=0.8, range=(0, 255))\n",
    "plt.savefig(\"training_IMG/training_23_hist.png\")\n",
    "plt.show()\n",
    "\n",
    "cv2.imwrite(\"training_IMG/training_23.png\", out)"
   ]
  },
  {
   "cell_type": "code",
   "execution_count": null,
   "metadata": {},
   "outputs": [],
   "source": [
    "%reset -f"
   ]
  },
  {
   "attachments": {},
   "cell_type": "markdown",
   "metadata": {},
   "source": [
    "## Q.24. ガンマ補正\n",
    "\n",
    "#### Gamma correction\n",
    "\n",
    "*imori_gamma.jpg*に対してガンマ補正(c=1, g=2.2)を実行せよ。\n",
    "\n",
    "ガンマ補正とは、カメラなどの媒体の経由によって画素値が非線形的に変換された場合の補正である。\n",
    "ディスプレイなどで画像をそのまま表示すると画面が暗くなってしまうため、RGBの値を予め大きくすることで、ディスプレイの特性を排除した画像表示を行うことがガンマ補正の目的である。\n",
    "\n",
    "非線形変換は次式で起こるとされる。\n",
    "ただしxは[0,1]に正規化されている。\n",
    "c ... 定数、g ... ガンマ特性(通常は2.2)\n",
    "\n",
    "<img src=\"assets/gamma_equ1.png\" width=\"150\">\n",
    "\n",
    "<!--\n",
    "```bash\n",
    "x' = c * Iin ^ g\n",
    "```\n",
    "-->\n",
    "\n",
    "そこで、ガンマ補正は次式で行われる。\n",
    "\n",
    "<img src=\"assets/gamma_equ2.png\" width=\"150\">\n",
    "\n",
    "<!--\n",
    "```bash\n",
    "Iout = (1/c * Iin) ^ (1/g)\n",
    "```\n",
    "-->"
   ]
  },
  {
   "cell_type": "code",
   "execution_count": null,
   "metadata": {},
   "outputs": [],
   "source": [
    "import cv2\n",
    "import numpy as np\n",
    "\n",
    "img = cv2.imread(\"imori_dark.jpg\").astype(np.float32)\n",
    "\n",
    "c = 1\n",
    "g = 2.2\n",
    "\n",
    "out = img/255.\n",
    "\n",
    "out = (1/c*out)**(1/g)\n",
    "out = out.astype(np.uint8)\n",
    "\n",
    "cv2.imwrite(\"training_IMG/training_24.png\", out)"
   ]
  },
  {
   "cell_type": "code",
   "execution_count": null,
   "metadata": {},
   "outputs": [],
   "source": [
    "%reset -f"
   ]
  },
  {
   "attachments": {},
   "cell_type": "markdown",
   "metadata": {},
   "source": [
    "## Q.25. 最近傍補間\n",
    "\n",
    "最近傍補間により画像を1.5倍に拡大せよ。\n",
    "\n",
    "最近傍補間(Nearest Neighbor)は画像の拡大時に最近傍にある画素をそのまま使う手法である。\n",
    "シンプルで処理速度が速いが、画質の劣化は著しい。\n",
    "\n",
    "次式で補間される。\n",
    "I' ... 拡大後の画像、 I ... 拡大前の画像、a ... 拡大率、[ ] ... 四捨五入\n",
    "\n",
    "<img src=\"assets/nni_fig.png\" width=\"700\">\n",
    "\n",
    "<!--\n",
    "```bash\n",
    "I'(x,y) = I([x/a], [y/a])\n",
    "```\n",
    "-->\n"
   ]
  },
  {
   "cell_type": "code",
   "execution_count": null,
   "metadata": {},
   "outputs": [],
   "source": [
    "import cv2\n",
    "import numpy as np\n",
    "import matplotlib.pyplot as plt\n",
    "\n",
    "img = cv2.imread(\"imori.jpg\").astype(np.float32)\n",
    "\n",
    "def nn_interpolate(img, ax=1, ay=1):\n",
    "\tH, W, C = img.shape\n",
    "\n",
    "\t# 拡大後のサイズを確認\n",
    "\taH = int(ay*H)\n",
    "\taW = int(ax*W)\n",
    "\n",
    "\ty = np.arange(aH).repeat(aW).reshape(aH, -1) # aH行の2次元配列を作成\n",
    "\tx = np.tile(np.arange(aW), (aH, 1)) # np.arange(aW)を(aH, 1)の形状分まで生成。aH行aW列の2次元配列を作る\n",
    "\ty = np.round(y/ay).astype(np.int8)\n",
    "\tx = np.round(x/ax).astype(np.int8)\n",
    "\n",
    "\tout = img[y,x]\n",
    "\n",
    "\tout = out.astype(np.uint8)\n",
    "\n",
    "\treturn out\n",
    "\n",
    "out = nn_interpolate(img, ax=1.5, ay=1.5)\n",
    "cv2.imwrite(\"training_IMG/training_25.png\", out)"
   ]
  },
  {
   "cell_type": "code",
   "execution_count": null,
   "metadata": {},
   "outputs": [],
   "source": [
    "%reset -f"
   ]
  }
 ],
 "metadata": {
  "kernelspec": {
   "display_name": "Python 3",
   "language": "python",
   "name": "python3"
  },
  "language_info": {
   "codemirror_mode": {
    "name": "ipython",
    "version": 3
   },
   "file_extension": ".py",
   "mimetype": "text/x-python",
   "name": "python",
   "nbconvert_exporter": "python",
   "pygments_lexer": "ipython3",
   "version": "3.9.16"
  },
  "orig_nbformat": 4
 },
 "nbformat": 4,
 "nbformat_minor": 2
}
