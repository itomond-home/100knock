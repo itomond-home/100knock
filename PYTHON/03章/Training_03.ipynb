{
 "cells": [
  {
   "attachments": {},
   "cell_type": "markdown",
   "metadata": {},
   "source": [
    "# ３章　可視化の仕組みを構築する１０本ノック"
   ]
  },
  {
   "attachments": {},
   "cell_type": "markdown",
   "metadata": {},
   "source": [
    "### ノック２１：店舗を絞り込んで可視化できるようにしてみよう"
   ]
  },
  {
   "cell_type": "code",
   "execution_count": null,
   "metadata": {},
   "outputs": [],
   "source": [
    "import pandas as pd\n",
    "from IPython.display import display, clear_output\n",
    "\n",
    "m_store = pd.read_csv(\"m_store.csv\")\n",
    "m_area = pd.read_csv(\"m_area.csv\")\n",
    "order_data = pd.read_csv(\"tbl_order_202004.csv\")\n",
    "order_data = pd.merge(order_data, m_store, on=\"store_id\", how=\"left\")\n",
    "order_data = pd.merge(order_data, m_area, on=\"area_cd\", how=\"left\")\n",
    "\n",
    "# マスターにないコードに対応した文字列を設定\n",
    "order_data.loc[order_data[\"takeout_flag\"]==0, \"takeout_name\"] = \"デリバリー\"\n",
    "order_data.loc[order_data[\"takeout_flag\"]==1, \"takeout_name\"] = \"お持ち帰り\"\n",
    "\n",
    "order_data.loc[order_data[\"status\"]==0, \"status_name\"] = \"受付\"\n",
    "order_data.loc[order_data[\"status\"]==1, \"status_name\"] = \"お支払済\"\n",
    "order_data.loc[order_data[\"status\"]==2, \"status_name\"] = \"お渡し済\"\n",
    "order_data.loc[order_data[\"status\"]==9, \"status_name\"] = \"キャンセル\"\n",
    "\n",
    "order_data.head()"
   ]
  },
  {
   "cell_type": "code",
   "execution_count": null,
   "metadata": {},
   "outputs": [],
   "source": [
    "from ipywidgets import Dropdown\n",
    "\n",
    "def order_by_store(val):\n",
    "    clear_output()\n",
    "    display(dropdown)\n",
    "    pick_data = order_data.loc[(order_data[\"store_name\"]==val[\"new\"]) & (order_data[\"status\"].isin([1,2]))]\n",
    "    display(pick_data.head())\n",
    "\n",
    "store_list = m_store[\"store_name\"].tolist()\n",
    "\n",
    "dropdown = Dropdown(options=store_list)\n",
    "dropdown.observe(order_by_store, names=\"value\")\n",
    "display(dropdown)"
   ]
  },
  {
   "cell_type": "code",
   "execution_count": null,
   "metadata": {},
   "outputs": [],
   "source": [
    "%matplotlib inline\n",
    "import matplotlib.pyplot as plt\n",
    "import japanize_matplotlib\n",
    "\n",
    "def graph_by_store(val):\n",
    "    clear_output()\n",
    "    display(dropdown2)\n",
    "    pick_data = order_data.loc[(order_data[\"store_name\"]==val[\"new\"]) & (order_data[\"status\"].isin([1,2]))]\n",
    "    temp =pick_data[[\"order_accept_date\", \"total_amount\"]].copy()\n",
    "    temp.loc[:,\"order_accept_date\"] = pd.to_datetime(temp[\"order_accept_date\"])\n",
    "    temp.set_index(\"order_accept_date\", inplace=True)\n",
    "    temp.resample(\"D\").sum().plot()\n",
    "\n",
    "dropdown2 = Dropdown(options=store_list)\n",
    "dropdown2.observe(graph_by_store, names=\"value\")\n",
    "display(dropdown2)\n"
   ]
  },
  {
   "attachments": {},
   "cell_type": "markdown",
   "metadata": {},
   "source": [
    "### ノック２２：複数店舗の詳細を可視化できるようにしてみよう"
   ]
  },
  {
   "cell_type": "code",
   "execution_count": null,
   "metadata": {},
   "outputs": [],
   "source": [
    "from ipywidgets import SelectMultiple\n",
    "\n",
    "def order_by_multi(val):\n",
    "    clear_output()\n",
    "    display(select)\n",
    "    pick_data = order_data.loc[(order_data[\"store_name\"].isin(val[\"new\"])) & (order_data[\"status\"].isin([1,2]))]\n",
    "    display(pick_data.head())\n",
    "\n",
    "select = SelectMultiple(options=store_list)\n",
    "select.observe (order_by_multi, names=\"value\")\n",
    "display(select)"
   ]
  },
  {
   "attachments": {},
   "cell_type": "markdown",
   "metadata": {},
   "source": [
    "### ノック２３：スライドバーを用いてオーダー件数を調べてみよう"
   ]
  },
  {
   "cell_type": "code",
   "execution_count": null,
   "metadata": {},
   "outputs": [],
   "source": [
    "from ipywidgets import IntSlider\n",
    "\n",
    "def store_lower(val):\n",
    "    clear_output()\n",
    "    display(slider)\n",
    "    temp = order_data.groupby(\"store_name\")\n",
    "    print(temp.size()[temp.size()<val[\"new\"]])\n",
    "\n",
    "slider = IntSlider(valune=1100, min=1000, max=2000, step=100, description=\"件数：\",)\n",
    "slider.observe(store_lower, names=\"value\")\n",
    "display(slider)"
   ]
  },
  {
   "cell_type": "code",
   "execution_count": null,
   "metadata": {},
   "outputs": [],
   "source": [
    "def store_upper(val):\n",
    "    clear_output()\n",
    "    display(slider2)\n",
    "    temp = order_data.groupby(\"store_name\")\n",
    "    print(temp.size()[temp.size()>val[\"new\"]])\n",
    "\n",
    "slider2 = IntSlider(valune=1600, min=1000, max=2000, step=100, description=\"件数：\",)\n",
    "slider2.observe(store_upper, names=\"value\")\n",
    "display(slider2)"
   ]
  },
  {
   "attachments": {},
   "cell_type": "markdown",
   "metadata": {},
   "source": [
    "### ノック２４：トグルボタンで地域データを抽出しよう"
   ]
  },
  {
   "cell_type": "code",
   "execution_count": null,
   "metadata": {},
   "outputs": [],
   "source": [
    "from ipywidgets import ToggleButtons\n",
    "\n",
    "area_list = m_area[\"wide_area\"].unique()\n",
    "\n",
    "def order_by_area(val):\n",
    "    clear_output()\n",
    "    display(toggle)\n",
    "    pick_data = order_data.loc[(order_data[\"wide_area\"]==val[\"new\"]) & (order_data[\"status\"].isin([1,2]))]\n",
    "    display(pick_data.head())\n",
    "\n",
    "toggle = ToggleButtons(options=area_list)\n",
    "toggle.observe(order_by_area, names=\"value\")\n",
    "display(toggle)"
   ]
  },
  {
   "cell_type": "code",
   "execution_count": null,
   "metadata": {},
   "outputs": [],
   "source": [
    "def graph_by_area(val):\n",
    "    clear_output()\n",
    "    display(toggle2)\n",
    "    pick_data = order_data.loc[(order_data[\"wide_area\"]==val[\"new\"]) & (order_data[\"status\"].isin([1,2]))]\n",
    "    temp = pick_data[[\"order_accept_date\", \"total_amount\"]].copy()\n",
    "    temp[\"order_accept_date\"] = pd.to_datetime(temp[\"order_accept_date\"])\n",
    "    temp.set_index(\"order_accept_date\", inplace=True)\n",
    "    temp.resample(\"D\").sum().plot()\n",
    "\n",
    "toggle2 = ToggleButtons(options=area_list)\n",
    "toggle2.observe(graph_by_area, names=\"value\")\n",
    "display(toggle2)\n"
   ]
  },
  {
   "attachments": {},
   "cell_type": "markdown",
   "metadata": {},
   "source": [
    "### ノック２５：日付を指定してデータを抽出してみよう"
   ]
  },
  {
   "cell_type": "code",
   "execution_count": null,
   "metadata": {},
   "outputs": [],
   "source": [
    "from ipywidgets import DatePicker\n",
    "import datetime\n",
    "\n",
    "order_data.loc[:,\"order_date\"] = pd.to_datetime(order_data[\"order_accept_date\"]).dt.date\n",
    "\n",
    "def order_by_date(val):\n",
    "    clear_output()\n",
    "    display(date_picker)\n",
    "    pick_data = order_data.loc[(order_data[\"order_date\"]==val[\"new\"]) & (order_data[\"status\"].isin([1,2]))]\n",
    "    print(len(pick_data))\n",
    "    display(pick_data.head())\n",
    "\n",
    "date_picker = DatePicker(value=datetime.datetime(2020, 4, 1))\n",
    "date_picker.observe(order_by_date, names=\"value\")\n",
    "display(date_picker)"
   ]
  },
  {
   "cell_type": "code",
   "execution_count": null,
   "metadata": {},
   "outputs": [],
   "source": [
    "min_date = datetime.date(2020, 4, 1)\n",
    "max_date = datetime.date(2020, 4, 30)\n",
    "\n",
    "def order_between_data():\n",
    "    clear_output()\n",
    "    display(date_picker_min)\n",
    "    display(date_picker_max)\n",
    "    pick_data = order_data.loc[(order_data[\"order_date\"] >= min_date) & (order_data[\"order_date\"] <= max_date) & (order_data[\"status\"].isin([1,2]))]\n",
    "    print(len(pick_data))\n",
    "    display(pick_data.head())\n",
    "\n",
    "def set_min_date(val):\n",
    "    global min_date\n",
    "    min_date = val[\"new\"]\n",
    "    order_between_data()\n",
    "\n",
    "def set_max_date(val):\n",
    "    global max_date\n",
    "    max_date = val[\"new\"]\n",
    "    order_between_data()\n",
    "\n",
    "date_picker_min = DatePicker(value=min_date)\n",
    "date_picker_min.observe(set_min_date, names=\"value\")\n",
    "print(\"最小日付\")\n",
    "display(date_picker_min)\n",
    "\n",
    "date_picker_max = DatePicker(value=max_date)\n",
    "date_picker_max.observe(set_max_date, names=\"value\")\n",
    "print(\"最大日付\")\n",
    "display(date_picker_max)\n"
   ]
  },
  {
   "attachments": {},
   "cell_type": "markdown",
   "metadata": {},
   "source": [
    "### ノック２６：ストーリーを考えてデータを構築しよう"
   ]
  },
  {
   "cell_type": "code",
   "execution_count": null,
   "metadata": {},
   "outputs": [],
   "source": [
    "# ライブラリのインポート\n",
    "import pandas as pd\n",
    "import os\n",
    "import glob\n",
    "\n",
    "# オーダーデータの読み込み\n",
    "current_dir = os.getcwd()\n",
    "tbl_order_file = os.path.join(current_dir, \"tbl_order_*.csv\")\n",
    "tbl_order_files = glob.glob(tbl_order_file)\n",
    "\n",
    "order_all = pd.DataFrame()\n",
    "for file in tbl_order_files:\n",
    "    order_tmp = pd.read_csv(file)\n",
    "    print(f\"{file}:{len(order_data)}\")\n",
    "    order_all = pd.concat([order_all, order_tmp], ignore_index=True)\n",
    "\n",
    "# 不要なデータを除外\n",
    "order_all = order_all[order_all[\"store_id\"] != 999]\n",
    "\n",
    "# マスターデータの除外\n",
    "order_all = pd.merge(order_all, m_store, on=\"store_id\", how=\"left\")\n",
    "order_all = pd.merge(order_all, m_area, on=\"area_cd\", how=\"left\")\n",
    "\n",
    "# 名称を設定（お渡し方法）\n",
    "order_all.loc[order_all[\"takeout_flag\"] == 0, \"takeout_name\"] = \"デリバリー\"\n",
    "order_all.loc[order_all[\"takeout_flag\"] == 1, \"takeout_name\"] = \"お持ち帰り\"\n",
    "\n",
    "# 名称を設定（注文状態）\n",
    "order_all.loc[order_all[\"status\"] == 0, \"status_name\"] = \"受付\"\n",
    "order_all.loc[order_all[\"status\"] == 1, \"status_name\"] = \"お支払済\"\n",
    "order_all.loc[order_all[\"status\"] == 2, \"status_name\"] = \"お渡し済\"\n",
    "order_all.loc[order_all[\"status\"] == 9, \"status_name\"] = \"キャンセル\"\n",
    "\n",
    "order_all.loc[:,\"order_date\"] = pd.to_datetime(order_all[\"order_accept_date\"]).dt.date\n",
    "order_all.groupby([\"store_id\", \"customer_id\"])[\"total_amount\"].describe()"
   ]
  },
  {
   "cell_type": "code",
   "execution_count": null,
   "metadata": {},
   "outputs": [],
   "source": [
    "summary_df = order_all.loc[order_all[\"status\"].isin([1,2])]\n",
    "store_summary_df = summary_df.groupby([\"store_id\"])[\"total_amount\"].sum()\n",
    "store_summary_df = pd.merge(store_summary_df, m_store, on=\"store_id\", how=\"left\")\n",
    "print(\"売上上位\")\n",
    "display(store_summary_df.sort_values(\"total_amount\", ascending=False).head(10))\n",
    "print(\"売上下位\")\n",
    "display(store_summary_df.sort_values(\"total_amount\", ascending=True).head(10))"
   ]
  },
  {
   "cell_type": "code",
   "execution_count": null,
   "metadata": {},
   "outputs": [],
   "source": [
    "cancel_df = pd.DataFrame()\n",
    "cancel_cnt = order_all.loc[order_all[\"status\"]==9].groupby([\"store_id\"])[\"store_id\"].count()\n",
    "order_cnt = order_all.loc[order_all[\"status\"].isin([1,2,9])].groupby([\"store_id\"])[\"store_id\"].count()\n",
    "cancel_rate = (cancel_cnt/order_cnt)*100\n",
    "cancel_df[\"cancel_rate\"] = cancel_rate\n",
    "cancel_df = pd.merge(cancel_df, m_store, on=\"store_id\", how=\"left\")\n",
    "print(\"キャンセル率が低い\")\n",
    "display(cancel_df.sort_values(\"cancel_rate\", ascending=True).head(10))\n",
    "print(\"キャンセル率が高い\")\n",
    "display(cancel_df.sort_values(\"cancel_rate\", ascending=False).head(10))"
   ]
  },
  {
   "attachments": {},
   "cell_type": "markdown",
   "metadata": {},
   "source": [
    "### ノック２７：キャンセルの理由を分析してみよう"
   ]
  },
  {
   "cell_type": "code",
   "execution_count": null,
   "metadata": {},
   "outputs": [],
   "source": [
    "def calc_delta(t):\n",
    "  t1, t2 = t\n",
    "  delta = t2 - t1\n",
    "  return delta.total_seconds()/60\n",
    "\n",
    "order_all.loc[:,\"order_accept_datetime\"] = pd.to_datetime(order_all[\"order_accept_date\"])\n",
    "order_all.loc[:,\"delivered_datetime\"] = pd.to_datetime(order_all[\"delivered_date\"])\n",
    "order_all.loc[:,\"delta\"] = order_all[[\"order_accept_datetime\", \"delivered_datetime\"]].apply(calc_delta, axis=1)\n",
    "\n",
    "delivery_df = order_all.loc[(order_all[\"status\"]==2) & (order_all[\"store_id\"].isin([8,122]))]\n",
    "delivery_df.groupby([\"store_id\"])[\"delta\"].mean()"
   ]
  },
  {
   "attachments": {},
   "cell_type": "markdown",
   "metadata": {},
   "source": [
    "### ノック２８：仮説を検証してみよう"
   ]
  },
  {
   "cell_type": "code",
   "execution_count": null,
   "metadata": {},
   "outputs": [],
   "source": [
    "temp_cancel = cancel_df.copy()\n",
    "temp_delivery = order_all.loc[order_all[\"status\"]==2].groupby([(\"store_id\")])[\"delta\"].mean()\n",
    "check_df = pd.merge(temp_cancel, temp_delivery, on=\"store_id\", how=\"left\")\n",
    "check_df.head()"
   ]
  },
  {
   "cell_type": "code",
   "execution_count": null,
   "metadata": {},
   "outputs": [],
   "source": [
    "# 全体\n",
    "temp_chk = check_df[[\"cancel_rate\", \"delta\"]]\n",
    "display(temp_chk.corr())"
   ]
  },
  {
   "cell_type": "code",
   "execution_count": null,
   "metadata": {},
   "outputs": [],
   "source": [
    "# キャンセル率が高い（第3四分位以上）店舗のみ\n",
    "th_high = check_df[\"cancel_rate\"].quantile(0.75)\n",
    "temp_chk = check_df.loc[(check_df[\"cancel_rate\"] >= th_high)]\n",
    "temp_chk = temp_chk[[\"cancel_rate\", \"delta\"]]\n",
    "display(temp_chk.corr())\n",
    "\n",
    "# キャンセル率が低い（第1四分位以上）店舗のみ\n",
    "th_low = check_df[\"cancel_rate\"].quantile(0.25)\n",
    "temp_chk = check_df.loc[(check_df[\"cancel_rate\"] >= th_low)]\n",
    "temp_chk = temp_chk[[\"cancel_rate\", \"delta\"]]\n",
    "display(temp_chk.corr())"
   ]
  },
  {
   "attachments": {},
   "cell_type": "markdown",
   "metadata": {},
   "source": [
    "### ノック２９：ストーリーをもとにパーツやデータを組み合わせてダッシュボードを作ろう"
   ]
  },
  {
   "cell_type": "code",
   "execution_count": null,
   "metadata": {},
   "outputs": [],
   "source": [
    "import seaborn as sns\n",
    "\n",
    "# 環境変数\n",
    "target_store = \"\"\n",
    "min_date = datetime.date(2020, 4, 1)\n",
    "max_date = datetime.date(2020, 4, 30)"
   ]
  },
  {
   "cell_type": "code",
   "execution_count": null,
   "metadata": {},
   "outputs": [],
   "source": [
    "def make_board():\n",
    "  clear_output()\n",
    "  display(toggle_db)\n",
    "\n",
    "  # データ作成処理\n",
    "  pick_order_data = order_all.loc[(order_all[\"store_name\"]==target_store) & (order_all[\"order_date\"] >= min_date) & (order_all[\"order_date\"] <= max_date) & (order_all[\"status\"].isin([1,2]))]\n",
    "  pick_cancel_data = order_all.loc[(order_all[\"store_name\"]==target_store) & (order_all[\"order_date\"] >= min_date) & (order_all[\"order_date\"] <= max_date) & (order_all[\"status\"]==9)]\n",
    "  pick_order_all = order_all.loc[(order_all[\"order_date\"] >= min_date) & (order_all[\"order_date\"] <= max_date) & (order_all[\"status\"].isin([1,2]))]\n",
    "  pick_cancel_all = order_all.loc[(order_all[\"order_date\"] >= min_date) & (order_all[\"order_date\"] <= max_date) & (order_all[\"status\"]==9)]\n",
    "  store_o_cnt = len(pick_order_data)\n",
    "  store_c_cnt = len(pick_order_data[\"customer_id\"].unique())\n",
    "  store_cancel_rate = (len(pick_cancel_data)/(len(pick_order_data)+len(pick_cancel_data)))*100\n",
    "  delivary_time = pick_order_data.loc[pick_order_data[\"status\"]==2][\"delta\"].mean()\n",
    "  delivary_time_all = pick_order_all.loc[pick_order_all[\"status\"]==2][\"delta\"].mean()\n",
    "\n",
    "  # 画面の描画処理\n",
    "  temp = pick_order_data[[\"order_date\", \"total_amount\"]].copy()\n",
    "  temp.loc[:, \"order_date\"] = pd.to_datetime(temp[\"order_date\"])\n",
    "  temp.set_index(\"order_date\", inplace=True)\n",
    "\n",
    "  print(\"===================================================================================================================\")\n",
    "  str_out = f\"◼️◼️{target_store}◼️◼️【対象期間】：{min_date}〜{max_date}\"\n",
    "  str_out = str_out + f\"【オーダー件数】：{store_o_cnt}件 【利用顧客数】：{store_c_cnt}\"\n",
    "  print(str_out)\n",
    "  print(\"-------------------------------------------------------------------------------------------------------------------\")\n",
    "  print(f\"◼️◼️◼️◼️◼️◼️ 日毎の売上 ◼️◼️◼️◼️◼️◼️◼️◼️\")\n",
    "  display(temp.resample(\"D\").sum())\n",
    "  print(\"-------------------------------------------------------------------------------------------------------------------\")\n",
    "  str_out = f\"【期間売上総額】：{'{:,}'.format(temp['total_amount'].sum())} \"\n",
    "  str_out = str_out + f\"【キャンセル総額】：{'{:,}'.format(pick_cancel_data['total_amount'].sum())} \"\n",
    "  str_out = str_out + f\"【キャンセル率】：{round(store_cancel_rate, 2)} % \"\n",
    "  print(str_out)\n",
    "  print(\"-------------------------------------------------------------------------------------------------------------------\")\n",
    "\n",
    "  # グラフ作成処理\n",
    "  fig, (ax1,ax2) = plt.subplots(1, 2, figsize=(15,5))\n",
    "  sns.distplot(temp.resample(\"D\").sum(), ax=ax1, kde=False)\n",
    "  ax1.set_title(\"売上（日単位）ヒストグラム\")\n",
    "\n",
    "  sns.countplot(x=\"order_date\", data=pick_cancel_data, ax=ax2)\n",
    "  ax2.set_title(\"キャンセル数（日単位）\")\n",
    "\n",
    "  fig, (ax3) = plt.subplots(1, 1, figsize=(20,5))\n",
    "  sns.boxplot(x=\"order_date\", y=\"total_amount\", data=pick_order_data)\n",
    "  ax3.set_title(\"オーダー状況箱ひげ図\")\n",
    "  plt.show()"
   ]
  },
  {
   "cell_type": "code",
   "execution_count": null,
   "metadata": {},
   "outputs": [],
   "source": [
    "# カレンダー変更時の処理\n",
    "def change_date_min(val):\n",
    "    global min_date\n",
    "    min_date = val[\"new\"]\n",
    "    make_board()\n",
    "\n",
    "def change_date_max(val):\n",
    "    global max_date\n",
    "    max_date = val[\"new\"]\n",
    "    make_board()"
   ]
  },
  {
   "cell_type": "code",
   "execution_count": null,
   "metadata": {},
   "outputs": [],
   "source": [
    "# ドロップダウン変更時の処理\n",
    "def change_dropdown(val):\n",
    "    global target_store\n",
    "    target_store = val[\"new\"]\n",
    "\n",
    "    # 期間指定機能\n",
    "    date_picker_min = DatePicker(value=min_date)\n",
    "    date_picker_min.observe(change_date_min, names=\"value\")\n",
    "    print(\"期間\")\n",
    "\n",
    "    date_picker_max = DatePicker(value=max_date)\n",
    "    date_picker_max.observe(change_date_max, names=\"value\")\n",
    "    display(date_picker_min, date_picker_max)"
   ]
  },
  {
   "cell_type": "code",
   "execution_count": null,
   "metadata": {},
   "outputs": [],
   "source": [
    "# 地域トグルボタン処理\n",
    "def order_by_area(val):\n",
    "  clear_output()\n",
    "  display(toggle_db)\n",
    "  # 選択された地域の店舗リストを作成する\n",
    "  store_list = order_all.loc[order_all[\"wide_area\"] == val[\"new\"]][\"store_name\"].unique()\n",
    "  # 作成された店舗リストでドロップダウンを作成する\n",
    "  dropdown = Dropdown(options=store_list)\n",
    "  dropdown.observe(change_dropdown, names=\"value\")\n",
    "  display(dropdown)"
   ]
  },
  {
   "cell_type": "code",
   "execution_count": null,
   "metadata": {},
   "outputs": [],
   "source": [
    "# トグルボタンを表示\n",
    "toggle_db = ToggleButtons(options=area_list)\n",
    "toggle_db.observe(order_by_area, names=\"value\")\n",
    "display(toggle_db)"
   ]
  },
  {
   "attachments": {},
   "cell_type": "markdown",
   "metadata": {},
   "source": [
    "### ノック３０：ダッシュボードを改善しよう"
   ]
  },
  {
   "cell_type": "code",
   "execution_count": null,
   "metadata": {},
   "outputs": [],
   "source": []
  },
  {
   "cell_type": "code",
   "execution_count": null,
   "metadata": {},
   "outputs": [],
   "source": []
  }
 ],
 "metadata": {
  "kernelspec": {
   "display_name": "Python 3",
   "language": "python",
   "name": "python3"
  },
  "language_info": {
   "codemirror_mode": {
    "name": "ipython",
    "version": 3
   },
   "file_extension": ".py",
   "mimetype": "text/x-python",
   "name": "python",
   "nbconvert_exporter": "python",
   "pygments_lexer": "ipython3",
   "version": "3.9.0"
  }
 },
 "nbformat": 4,
 "nbformat_minor": 2
}
