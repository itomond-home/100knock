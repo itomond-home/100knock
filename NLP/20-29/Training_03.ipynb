{
 "cells": [
  {
   "attachments": {},
   "cell_type": "markdown",
   "metadata": {},
   "source": [
    "## 第3章: 正規表現\n",
    "Wikipediaの記事を以下のフォーマットで書き出したファイルjawiki-country.json.gzがある。\n",
    "\n",
    "1行に1記事の情報がJSON形式で格納される。\n",
    "各行には記事名が”title”キーに，記事本文が”text”キーの辞書オブジェクトに格納され、\n",
    "\n",
    "そのオブジェクトがJSON形式で書き出されるファイル全体はgzipで圧縮される。\n",
    "以下の処理を行うプログラムを作成せよ。"
   ]
  },
  {
   "cell_type": "code",
   "execution_count": null,
   "metadata": {},
   "outputs": [],
   "source": [
    "# 行数の確認\n",
    "!wc -l ./jawiki-country.json"
   ]
  },
  {
   "cell_type": "code",
   "execution_count": null,
   "metadata": {},
   "outputs": [],
   "source": [
    "# 先頭行の確認\n",
    "!head -1 ./jawiki-country.json"
   ]
  },
  {
   "attachments": {},
   "cell_type": "markdown",
   "metadata": {},
   "source": [
    "### 20. JSONデータの読み込み\n",
    "Wikipedia記事のJSONファイルを読み込み，「イギリス」に関する記事本文を表示せよ．問題21-29では，ここで抽出した記事本文に対して実行せよ．"
   ]
  },
  {
   "cell_type": "code",
   "execution_count": null,
   "metadata": {},
   "outputs": [],
   "source": [
    "import json\n",
    "\n",
    "filename = 'jawiki-country.json'\n",
    "with open(filename, mode='r') as f:\n",
    "  for line in f:\n",
    "    line = json.loads(line)\n",
    "    if line['title'] == 'イギリス':\n",
    "      text_uk = line['text']\n",
    "      break\n",
    "\n",
    "# 確認\n",
    "print(text_uk)"
   ]
  },
  {
   "attachments": {},
   "cell_type": "markdown",
   "metadata": {},
   "source": [
    "### 21. カテゴリ名を含む行を抽出\n",
    "記事中でカテゴリ名を宣言している行を抽出せよ．"
   ]
  },
  {
   "cell_type": "code",
   "execution_count": null,
   "metadata": {},
   "outputs": [],
   "source": [
    "import re\n",
    "\n",
    "pattern = r'^(.*\\[\\[Category:.*\\]\\].*)$'\n",
    "\n",
    "# re.findall()関数は指定したパターンに一致するすべての部分文字列をリストとして返す\n",
    "# re.MULTILINEフラグは、^と$がそれぞれ各行の先頭と終端にマッチするようにしている\n",
    "result = '\\n'.join(re.findall(pattern, text_uk, re.MULTILINE))\n",
    "print(result)"
   ]
  },
  {
   "attachments": {},
   "cell_type": "markdown",
   "metadata": {},
   "source": [
    "### 22. カテゴリ名の抽出\n",
    "記事のカテゴリ名を（行単位ではなく名前で）抽出せよ．"
   ]
  },
  {
   "cell_type": "code",
   "execution_count": null,
   "metadata": {},
   "outputs": [],
   "source": [
    "import re\n",
    "\n",
    "pattern = r'^.*\\[\\[Category:(.*?)(?:\\|.*)?\\]\\].*$'\n",
    "result = '\\n'.join(re.findall(pattern, text_uk, re.MULTILINE))\n",
    "\n",
    "print(result)"
   ]
  },
  {
   "attachments": {},
   "cell_type": "markdown",
   "metadata": {},
   "source": [
    "### 23. セクション構造\n",
    "記事中に含まれるセクション名とそのレベル（例えば”== セクション名 ==”なら1）を表示せよ．"
   ]
  },
  {
   "cell_type": "code",
   "execution_count": null,
   "metadata": {},
   "outputs": [],
   "source": [
    "pattern = r'^(\\={2,})\\s*(.+?)\\s*(\\={2,}).*$'\n",
    "result = '\\n'.join(i[1] + ':' + str(len(i[0]) - 1) for i in re.findall(pattern, text_uk, re.MULTILINE))\n",
    "print(result)"
   ]
  },
  {
   "attachments": {},
   "cell_type": "markdown",
   "metadata": {},
   "source": [
    "### 24. ファイル参照の抽出\n",
    "記事から参照されているメディアファイルをすべて抜き出せ．"
   ]
  },
  {
   "cell_type": "code",
   "execution_count": null,
   "metadata": {},
   "outputs": [],
   "source": [
    "pattern = r'\\[\\[ファイル:(.+?)\\|'\n",
    "result = '\\n'.join(re.findall(pattern, text_uk))\n",
    "print(result)"
   ]
  },
  {
   "attachments": {},
   "cell_type": "markdown",
   "metadata": {},
   "source": [
    "### 25. テンプレートの抽出\n",
    "記事中に含まれる「基礎情報」テンプレートのフィールド名と値を抽出し，辞書オブジェクトとして格納せよ．"
   ]
  },
  {
   "cell_type": "code",
   "execution_count": null,
   "metadata": {},
   "outputs": [],
   "source": [
    "# テンプレートの抽出\n",
    "pattern = r'^\\{\\{基礎情報.*?$(.*?)^\\}\\}'\n",
    "# re.DOTALL フラグが指定されていると、ドット . は改行文字にもマッチする\n",
    "template = re.findall(pattern, text_uk, re.MULTILINE + re.DOTALL)\n",
    "print(template)\n",
    "\n",
    "# フィールド名と値を辞書オブジェクトに格納\n",
    "pattern = r'^\\|(.+?)\\s*=\\s*(.+?)(?:(?=\\n\\|)|(?=\\n$))'\n",
    "result = dict(re.findall(pattern, template[0], re.MULTILINE + re.DOTALL))\n",
    "for k, v in result.items():\n",
    "  print(k + ': ' + v)"
   ]
  },
  {
   "attachments": {},
   "cell_type": "markdown",
   "metadata": {},
   "source": [
    "### 26. 強調マークアップの除去\n",
    "25の処理時に，テンプレートの値からMediaWikiの強調マークアップ（弱い強調，強調，強い強調のすべて）を除去してテキストに変換せよ．"
   ]
  },
  {
   "cell_type": "code",
   "execution_count": null,
   "metadata": {},
   "outputs": [],
   "source": []
  }
 ],
 "metadata": {
  "kernelspec": {
   "display_name": "100knock",
   "language": "python",
   "name": "python3"
  },
  "language_info": {
   "codemirror_mode": {
    "name": "ipython",
    "version": 3
   },
   "file_extension": ".py",
   "mimetype": "text/x-python",
   "name": "python",
   "nbconvert_exporter": "python",
   "pygments_lexer": "ipython3",
   "version": "3.9.0"
  },
  "orig_nbformat": 4
 },
 "nbformat": 4,
 "nbformat_minor": 2
}
