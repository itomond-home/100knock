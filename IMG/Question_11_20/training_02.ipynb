{
 "cells": [
  {
   "attachments": {},
   "cell_type": "markdown",
   "metadata": {},
   "source": [
    "## Q.11. 平滑化フィルタ\n",
    "\n",
    "平滑化フィルタ(3x3)を実装せよ。\n",
    "\n",
    "平滑化フィルタはフィルタ内の画素の平均値を出力するフィルタである。"
   ]
  },
  {
   "cell_type": "code",
   "execution_count": 3,
   "metadata": {},
   "outputs": [
    {
     "data": {
      "text/plain": [
       "True"
      ]
     },
     "execution_count": 3,
     "metadata": {},
     "output_type": "execute_result"
    }
   ],
   "source": [
    "import cv2\n",
    "import numpy as np\n",
    "\n",
    "img = cv2.imread(\"imori.jpg\").astype(np.float32)\n",
    "\n",
    "def MeanFilter(image, kernel_size):\n",
    "    # 画像がカラー画像か確認する。グレースケールの場合は次元を拡張する。\n",
    "    if len(image.shape) == 3:\n",
    "        H, W, C = image.shape\n",
    "    else : # np.expand_dims()を用いると３次元に拡張される\n",
    "        H, W, C = np.expand_dims(image, axis=-1)\n",
    "\n",
    "    # パディングの大きさを決定する\n",
    "    pad = kernel_size // 2\n",
    "\t# 上段下段、左右一列にパディングを入れたとして、その大きさの出力を用意する\n",
    "    out = np.zeros((H + pad * 2, W + pad * 2, C), dtype=float)\n",
    "\t# パディングで囲われた内側にもとの画像を貼り付ける\n",
    "    out[pad: pad + H, pad: pad + W] = image.copy().astype(float)\n",
    "\n",
    "    # 作成したカーネルを用いてフィルタリングを行う\n",
    "    tmp = out.copy()\n",
    "    for y in range(H):\n",
    "        for x in range(W):\n",
    "            for c in range(C):\n",
    "                out[pad+y, pad+x, c] = np.mean(tmp[y:y+kernel_size, x:x+kernel_size, c])\n",
    "\n",
    "    # 値を越えないようにクリップする\n",
    "    out = np.clip(out, 0, 255)\n",
    "    out = out[pad: pad + H, pad: pad + W].astype(np.uint8)\n",
    "    return out\n",
    "\n",
    "img_ = MeanFilter(img, 3)\n",
    "\n",
    "# 保存して確認する\n",
    "cv2.imwrite(\"training_IMG/training_11.png\", img_)"
   ]
  },
  {
   "cell_type": "code",
   "execution_count": null,
   "metadata": {},
   "outputs": [],
   "source": [
    "%reset -f"
   ]
  },
  {
   "attachments": {},
   "cell_type": "markdown",
   "metadata": {},
   "source": [
    "## Q.12. モーションフィルタ\n",
    "\n",
    "モーションフィルタ(3x3)を実装せよ。\n",
    "\n",
    "モーションフィルタとは対角方向の平均値を取るフィルタであり、次式で定義される。\n",
    "\n",
    "```bash\n",
    "  1/3  0   0\n",
    "[  0  1/3  0 ]\n",
    "   0   0  1/3\n",
    "```"
   ]
  },
  {
   "cell_type": "code",
   "execution_count": 4,
   "metadata": {},
   "outputs": [
    {
     "data": {
      "text/plain": [
       "True"
      ]
     },
     "execution_count": 4,
     "metadata": {},
     "output_type": "execute_result"
    }
   ],
   "source": [
    "import cv2\n",
    "import numpy as np\n",
    "\n",
    "img = cv2.imread(\"imori.jpg\").astype(np.float32)\n",
    "\n",
    "def MotionFilter(image, kernel_size):\n",
    "    # 画像がカラー画像か確認する。グレースケールの場合は次元を拡張する。\n",
    "    if len(image.shape) == 3:\n",
    "        H, W, C = image.shape\n",
    "    else : # np.expand_dims()を用いると３次元に拡張される\n",
    "        H, W, C = np.expand_dims(image, axis=-1)\n",
    "\n",
    "    # パディングの大きさを決定する\n",
    "    pad = kernel_size // 2\n",
    "\t# 上段下段、左右一列にパディングを入れたとして、その大きさの出力を用意する\n",
    "    out = np.zeros((H + pad * 2, W + pad * 2, C), dtype=float)\n",
    "\t# パディングで囲われた内側にもとの画像を貼り付ける\n",
    "    out[pad: pad + H, pad: pad + W] = image.copy().astype(float)\n",
    "\n",
    "    # 作成したカーネルを用いてフィルタリングを行う\n",
    "    tmp = out.copy()\n",
    "    for y in range(H):\n",
    "        for x in range(W):\n",
    "            for c in range(C):\n",
    "                out[pad+y, pad+x, c] = np.mean(np.diag(tmp[y:y+kernel_size, x:x+kernel_size, c]))\n",
    "\n",
    "    # 値を越えないようにクリップする\n",
    "    out = np.clip(out, 0, 255)\n",
    "    out = out[pad: pad + H, pad: pad + W].astype(np.uint8)\n",
    "    return out\n",
    "\n",
    "img_ = MotionFilter(img, 3)\n",
    "\n",
    "# 保存して確認する\n",
    "cv2.imwrite(\"training_IMG/training_12.png\", img_)"
   ]
  },
  {
   "cell_type": "code",
   "execution_count": 5,
   "metadata": {},
   "outputs": [],
   "source": [
    "%reset -f"
   ]
  },
  {
   "attachments": {},
   "cell_type": "markdown",
   "metadata": {},
   "source": [
    "## Q.13. MAX-MINフィルタ\n",
    "\n",
    "MAX-MINフィルタ(3x3)を実装せよ。\n",
    "\n",
    "MAX-MINフィルタとはフィルタ内の画素の最大値と最小値の差を出力するフィルタであり、**エッジ検出**のフィルタの一つである。\n",
    "エッジ検出とは画像内の線を検出るすることであり、このような画像内の情報を抜き出す操作を**特徴抽出**と呼ぶ。\n",
    "エッジ検出では多くの場合、グレースケール画像に対してフィルタリングを行う。\n"
   ]
  },
  {
   "cell_type": "code",
   "execution_count": 6,
   "metadata": {},
   "outputs": [
    {
     "data": {
      "text/plain": [
       "True"
      ]
     },
     "execution_count": 6,
     "metadata": {},
     "output_type": "execute_result"
    }
   ],
   "source": [
    "import cv2\n",
    "import numpy as np\n",
    "\n",
    "img = cv2.imread(\"imori.jpg\").astype(np.float32)\n",
    "\n",
    "def MaxMinFilter(image, kernel_size):\n",
    "    # 画像がカラー画像か確認する。グレースケールの場合は次元を拡張する。\n",
    "    if len(image.shape) == 3:\n",
    "        H, W, C = image.shape\n",
    "    else : # np.expand_dims()を用いると３次元に拡張される\n",
    "        H, W, C = np.expand_dims(image, axis=-1)\n",
    "\n",
    "    # パディングの大きさを決定する\n",
    "    pad = kernel_size // 2\n",
    "\t# 上段下段、左右一列にパディングを入れたとして、その大きさの出力を用意する\n",
    "    out = np.zeros((H + pad * 2, W + pad * 2, C), dtype=float)\n",
    "\t# パディングで囲われた内側にもとの画像を貼り付ける\n",
    "    out[pad: pad + H, pad: pad + W] = image.copy().astype(float)\n",
    "\n",
    "    # 作成したカーネルを用いてフィルタリングを行う\n",
    "    tmp = out.copy()\n",
    "    for y in range(H):\n",
    "        for x in range(W):\n",
    "            for c in range(C):\n",
    "                out[pad+y, pad+x, c] = np.max(tmp[y:y+kernel_size, x:x+kernel_size, c]) - np.min(tmp[y:y+kernel_size, x:x+kernel_size, c])\n",
    "\n",
    "    # 値を越えないようにクリップする\n",
    "    out = np.clip(out, 0, 255)\n",
    "    out = out[pad: pad + H, pad: pad + W].astype(np.uint8)\n",
    "    return out\n",
    "\n",
    "img_ = MaxMinFilter(img, 3)\n",
    "\n",
    "# 保存して確認する\n",
    "cv2.imwrite(\"training_IMG/training_13.png\", img_)"
   ]
  },
  {
   "cell_type": "code",
   "execution_count": null,
   "metadata": {},
   "outputs": [],
   "source": [
    "%reset -f"
   ]
  }
 ],
 "metadata": {
  "kernelspec": {
   "display_name": "Python 3",
   "language": "python",
   "name": "python3"
  },
  "language_info": {
   "codemirror_mode": {
    "name": "ipython",
    "version": 3
   },
   "file_extension": ".py",
   "mimetype": "text/x-python",
   "name": "python",
   "nbconvert_exporter": "python",
   "pygments_lexer": "ipython3",
   "version": "3.9.16"
  },
  "orig_nbformat": 4
 },
 "nbformat": 4,
 "nbformat_minor": 2
}
