{
 "cells": [
  {
   "attachments": {},
   "cell_type": "markdown",
   "metadata": {},
   "source": [
    "# ４章　レポーティングする仕組みを構築する10本ノック"
   ]
  },
  {
   "attachments": {},
   "cell_type": "markdown",
   "metadata": {},
   "source": [
    "### ノック３１：特定店舗の売上をExcelにして出力してみよう"
   ]
  },
  {
   "cell_type": "code",
   "execution_count": null,
   "metadata": {},
   "outputs": [],
   "source": [
    "import pandas as pd\n",
    "import glob\n",
    "import os\n",
    "\n",
    "m_store = pd.read_csv(\"m_store.csv\")\n",
    "m_area = pd.read_csv(\"m_area.csv\")\n",
    "\n",
    "current_dir = os.getcwd()\n",
    "tbl_order_file = os.path.join(current_dir, \"tbl_order_*.csv\")\n",
    "tbl_order_files = glob.glob(tbl_order_file)\n",
    "\n",
    "order_all = pd.DataFrame()\n",
    "for file in tbl_order_files:\n",
    "  order_tmp = pd.read_csv(file)\n",
    "  print(f\"{file}:{len(order_tmp)}\")\n",
    "  order_all = pd.concat([order_all, order_tmp], ignore_index=True)\n",
    "\n",
    "# 保守等店舗のデータ削除\n",
    "order_all = order_all.loc[order_all[\"store_id\"] != 999]\n",
    "\n",
    "order_all = pd.merge(order_all, m_store, on=\"store_id\", how=\"left\")\n",
    "order_all = pd.merge(order_all, m_area, on=\"area_cd\", how=\"left\")\n",
    "\n",
    "# マスターにないコードに対応した文字列を設定\n",
    "order_all.loc[order_all[\"takeout_flag\"]==0, \"takeout_name\"] = \"デリバリー\"\n",
    "order_all.loc[order_all[\"takeout_flag\"]==1, \"takeout_name\"] = \"お持ち帰り\"\n",
    "\n",
    "order_all.loc[order_all[\"status\"]==0, \"status_name\"] = \"受付\"\n",
    "order_all.loc[order_all[\"status\"]==1, \"status_name\"] = \"お支払済\"\n",
    "order_all.loc[order_all[\"status\"]==2, \"status_name\"] = \"お渡し済\"\n",
    "order_all.loc[order_all[\"status\"]==9, \"status_name\"] = \"キャンセル\"\n",
    "\n",
    "order_all.loc[:, \"order_date\"] = pd.to_datetime(order_all[\"order_accept_date\"]).dt.date\n",
    "\n",
    "order_all.head()"
   ]
  },
  {
   "cell_type": "code",
   "execution_count": null,
   "metadata": {},
   "outputs": [],
   "source": [
    "import openpyxl\n",
    "\n",
    "wb = openpyxl.Workbook()\n",
    "ws = wb[\"Sheet\"]\n",
    "ws.cell(1,1).value = \"書き込みテストです\"\n",
    "wb.save(\"test.xlsx\")\n",
    "wb.close()"
   ]
  },
  {
   "cell_type": "code",
   "execution_count": null,
   "metadata": {},
   "outputs": [],
   "source": [
    "wb = openpyxl.load_workbook(\"test.xlsx\", read_only=True)\n",
    "ws = wb[\"Sheet\"]\n",
    "print(ws.cell(1,1).value)\n",
    "wb.close()"
   ]
  },
  {
   "cell_type": "code",
   "execution_count": null,
   "metadata": {},
   "outputs": [],
   "source": [
    "# テストデータの準備\n",
    "store_id = 1\n",
    "store_df = order_all.loc[order_all[\"store_id\"] == store_id].copy()\n",
    "store_name = store_df[\"store_name\"].unique()[0]\n",
    "store_sales_total = store_df.loc[store_df[\"status\"].isin([1,2])][\"total_amount\"].sum()\n",
    "store_sales_takeout = store_df.loc[store_df[\"status\"]==1][\"total_amount\"].sum()\n",
    "store_sales_delivery = store_df.loc[store_df[\"status\"]==2][\"total_amount\"].sum()\n",
    "print(f\"売上額確認 {store_sales_total} = {store_sales_takeout + store_sales_delivery}\")\n",
    "output_df = store_df[[\"order_accept_date\", \"customer_id\", \"total_amount\", \"takeout_name\", \"status_name\"]]\n",
    "output_df.head()"
   ]
  },
  {
   "cell_type": "code",
   "execution_count": null,
   "metadata": {},
   "outputs": [],
   "source": [
    "from openpyxl.utils.dataframe import dataframe_to_rows\n",
    "\n",
    "store_title = f\"{store_id}_{store_name}\"\n",
    "\n",
    "wb = openpyxl.Workbook()\n",
    "ws = wb.active\n",
    "ws.title = store_title\n",
    "\n",
    "ws.cell(1,1).value = f\"{store_title} 売り上げデータ\"\n",
    "\n",
    "# OpenPyXL ののユーティリティ dataframe_to_rows を利用\n",
    "rows = dataframe_to_rows(output_df, index=False, header=True)\n",
    "\n",
    "# 表の貼り付け位置\n",
    "row_start = 3\n",
    "col_start = 2\n",
    "\n",
    "for row_no, row in enumerate(rows, row_start):\n",
    "    for col_no, value in enumerate(row, col_start):\n",
    "        ws.cell(row_no, col_no).value = value\n",
    "\n",
    "filename = f\"{store_title}.xlsx\"\n",
    "wb.save(filename)\n",
    "wb.close()"
   ]
  },
  {
   "attachments": {},
   "cell_type": "markdown",
   "metadata": {},
   "source": [
    "### ノック３２：Excelの表を整えて出力してみよう"
   ]
  },
  {
   "cell_type": "code",
   "execution_count": null,
   "metadata": {},
   "outputs": [],
   "source": [
    "# スタイル関係系のインポート\n",
    "from openpyxl.styles import PatternFill, Border, Side, Font\n",
    "\n",
    "openpyxl.load_workbook(filename)\n",
    "ws = wb[store_title]\n",
    "\n",
    "side = Side(style=\"thin\", color=\"008080\")\n",
    "border = Border(top=side, bottom=side, left=side, right=side)\n",
    "\n",
    "# データの表の部分に罫線を設定\n",
    "for row in ws:\n",
    "  for cell in row:\n",
    "    if ws[cell.coordinate].value:\n",
    "      ws[cell.coordinate].border = border\n",
    "\n",
    "ws.cell(1,1).font = Font(bold=True, color=\"008080\")\n",
    "\n",
    "cell = ws.cell(3,2)\n",
    "cell.fill = PatternFill(patternType=\"solid\", fgColor=\"008080\")\n",
    "cell.value = \"注文受注日時\"\n",
    "cell.font = Font(bold=True, color=\"FFFFFF\")\n",
    "\n",
    "cell = ws.cell(3,3)\n",
    "cell.fill = PatternFill(patternType=\"solid\", fgColor=\"008080\")\n",
    "cell.value = \"顧客ID\"\n",
    "cell.font = Font(bold=True, color=\"FFFFFF\")\n",
    "\n",
    "cell = ws.cell(3,4)\n",
    "cell.fill = PatternFill(patternType=\"solid\", fgColor=\"008080\")\n",
    "cell.value = \"購入総額\"\n",
    "cell.font = Font(bold=True, color=\"FFFFFF\")\n",
    "\n",
    "cell = ws.cell(3,5)\n",
    "cell.fill = PatternFill(patternType=\"solid\", fgColor=\"008080\")\n",
    "cell.value = \"注文タイプ\"\n",
    "cell.font = Font(bold=True, color=\"FFFFFF\")\n",
    "\n",
    "cell = ws.cell(3,6)\n",
    "cell.fill = PatternFill(patternType=\"solid\", fgColor=\"008080\")\n",
    "cell.value = \"注文状態\"\n",
    "cell.font = Font(bold=True, color=\"FFFFFF\")\n",
    "\n",
    "ws.column_dimensions[\"A\"].width = 20\n",
    "ws.column_dimensions[\"B\"].width = 20\n",
    "ws.column_dimensions[\"C\"].width = 12\n",
    "ws.column_dimensions[\"D\"].width = 12\n",
    "ws.column_dimensions[\"E\"].width = 12\n",
    "ws.column_dimensions[\"F\"].width = 12\n",
    "\n",
    "# ファイルに保存\n",
    "wb.save(filename)\n",
    "wb.close()"
   ]
  },
  {
   "attachments": {},
   "cell_type": "markdown",
   "metadata": {},
   "source": [
    "\n",
    "### ノック３３：売上以外のデータも出力してみよう"
   ]
  },
  {
   "cell_type": "code",
   "execution_count": null,
   "metadata": {},
   "outputs": [],
   "source": [
    "def calc_delta(t):\n",
    "    t1, t2 = t\n",
    "    delta = t2 - t1\n",
    "    return delta.total_seconds()/60\n",
    "\n",
    "store_df.loc[:, \"order_accept_datetime\"] = pd.to_datetime(store_df[\"order_accept_date\"])\n",
    "store_df.loc[:, \"delivered_datetime\"] = pd.to_datetime(store_df[\"delivered_date\"])\n",
    "store_df.loc[:, \"delta\"] = store_df[[\"order_accept_datetime\", \"delivered_datetime\"]].apply(calc_delta, axis=1)\n",
    "\n",
    "delivery_time = store_df.groupby([\"store_id\"])[\"delta\"].describe()\n",
    "delivery_time"
   ]
  },
  {
   "cell_type": "code",
   "execution_count": null,
   "metadata": {},
   "outputs": [],
   "source": [
    "openpyxl.load_workbook(filename)\n",
    "ws = wb[store_title]\n",
    "\n",
    "cell = ws.cell(1,7)\n",
    "cell.value = f\"配達完了までの時間\"\n",
    "cell.font = Font(bold=True, color=\"008080\")\n",
    "\n",
    "rows = dataframe_to_rows(delivery_time, index=False, header=True)\n",
    "\n",
    "# 表の貼り付け位置\n",
    "row_start = 3\n",
    "col_start = 8\n",
    "\n",
    "for row_no, row in enumerate(rows, row_start):\n",
    "    for col_no, value in enumerate(row, col_start):\n",
    "        cell = ws.cell(row_no, col_no)\n",
    "        cell.value = value\n",
    "        cell.border = border\n",
    "        if row_no == row_start:\n",
    "            cell.fill = PatternFill(patternType=\"solid\", fgColor=\"008080\")\n",
    "            cell.font = Font(bold=True, color=\"FFFFFF\")\n",
    "\n",
    "filename = f\"{store_title}.xlsx\"\n",
    "wb.save(filename)\n",
    "wb.close()"
   ]
  },
  {
   "attachments": {},
   "cell_type": "markdown",
   "metadata": {},
   "source": [
    "### ノック３４：問題のある箇所を赤字で出力してみよう"
   ]
  },
  {
   "cell_type": "code",
   "execution_count": null,
   "metadata": {},
   "outputs": [],
   "source": [
    "openpyxl.load_workbook(filename)\n",
    "ws = wb[store_title]\n",
    "\n",
    "rows = dataframe_to_rows(output_df, index=False, header=True)\n",
    "\n",
    "# 表の貼り付け位置\n",
    "row_start = 3\n",
    "col_start = 2\n",
    "\n",
    "for row_no, row in enumerate(rows, row_start):\n",
    "    if row_no == row_start:\n",
    "        continue\n",
    "    for col_no, value in enumerate(row, col_start):\n",
    "        ws.cell(row_no, col_no).value = value\n",
    "        if value == \"キャンセル\":\n",
    "            ws.cell(row_no, col_no).font = Font(bold=True, color=\"FF0000\")\n",
    "\n",
    "filename = f\"{store_title}.xlsx\"\n",
    "wb.save(filename)\n",
    "wb.close()"
   ]
  },
  {
   "attachments": {},
   "cell_type": "markdown",
   "metadata": {},
   "source": [
    "### ノック３５：エクセルのセル関数で日毎の集計をしてみよう"
   ]
  },
  {
   "cell_type": "code",
   "execution_count": null,
   "metadata": {},
   "outputs": [],
   "source": [
    "openpyxl.load_workbook(filename)\n",
    "ws = wb[store_title]\n",
    "\n",
    "cell = ws.cell(7,7)\n",
    "cell.value = \"集計\"\n",
    "cell.font = Font(bold=True, color=\"008080\")\n",
    "\n",
    "cell = ws.cell(8,8)\n",
    "cell.value = \"データ総額\"\n",
    "cell.font = Font(bold=True, color=\"008080\")\n",
    "\n",
    "cell = ws.cell(8,10)\n",
    "cell.value = f\"=SUM(D4:D{ws.max_row})\"\n",
    "\n",
    "cell = ws.cell(9,8)\n",
    "cell.value = \" 内 決済完了額\"\n",
    "cell.font = Font(bold=True)\n",
    "\n",
    "cell = ws.cell(9,10)\n",
    "cell.value = f'=SUMIF(F4:F{ws.max_row},\"<>\"&\"キャンセル\", D4:D{ws.max_row})'\n",
    "\n",
    "cell = ws.cell(10,8)\n",
    "cell.value = \" 内 キャンセル額\"\n",
    "cell.font = Font(bold=True)\n",
    "\n",
    "cell = ws.cell(10,10)\n",
    "cell.value = f'=SUMIF(F4:F{ws.max_row},\"=\"&\"キャンセル\", D4:D{ws.max_row})'\n",
    "\n",
    "filename = f\"{store_title}.xlsx\"\n",
    "wb.save(filename)\n",
    "wb.close()"
   ]
  },
  {
   "attachments": {},
   "cell_type": "markdown",
   "metadata": {},
   "source": [
    "### ノック３６：折れ線グラフにして出力してみよう"
   ]
  },
  {
   "cell_type": "code",
   "execution_count": null,
   "metadata": {},
   "outputs": [],
   "source": []
  },
  {
   "cell_type": "code",
   "execution_count": null,
   "metadata": {},
   "outputs": [],
   "source": []
  },
  {
   "attachments": {},
   "cell_type": "markdown",
   "metadata": {},
   "source": [
    "### ノック３７：レポートに向けてデータを準備しよう"
   ]
  },
  {
   "cell_type": "code",
   "execution_count": null,
   "metadata": {},
   "outputs": [],
   "source": []
  },
  {
   "cell_type": "code",
   "execution_count": null,
   "metadata": {},
   "outputs": [],
   "source": []
  },
  {
   "attachments": {},
   "cell_type": "markdown",
   "metadata": {},
   "source": [
    "### ノック３８：データシートに必要なデータを出力しよう"
   ]
  },
  {
   "cell_type": "code",
   "execution_count": null,
   "metadata": {},
   "outputs": [],
   "source": []
  },
  {
   "cell_type": "code",
   "execution_count": null,
   "metadata": {},
   "outputs": [],
   "source": []
  },
  {
   "attachments": {},
   "cell_type": "markdown",
   "metadata": {},
   "source": [
    "### ノック３９：サマリーシートを作成しよう"
   ]
  },
  {
   "cell_type": "code",
   "execution_count": null,
   "metadata": {},
   "outputs": [],
   "source": []
  },
  {
   "cell_type": "code",
   "execution_count": null,
   "metadata": {},
   "outputs": [],
   "source": []
  },
  {
   "attachments": {},
   "cell_type": "markdown",
   "metadata": {},
   "source": [
    "### ノック４０：店舗別にレポートをExcel出力してみよう"
   ]
  },
  {
   "cell_type": "code",
   "execution_count": null,
   "metadata": {},
   "outputs": [],
   "source": []
  },
  {
   "cell_type": "code",
   "execution_count": null,
   "metadata": {},
   "outputs": [],
   "source": []
  }
 ],
 "metadata": {
  "kernelspec": {
   "display_name": "Python 3",
   "language": "python",
   "name": "python3"
  },
  "language_info": {
   "codemirror_mode": {
    "name": "ipython",
    "version": 3
   },
   "file_extension": ".py",
   "mimetype": "text/x-python",
   "name": "python",
   "nbconvert_exporter": "python",
   "pygments_lexer": "ipython3",
   "version": "3.9.0"
  }
 },
 "nbformat": 4,
 "nbformat_minor": 2
}
