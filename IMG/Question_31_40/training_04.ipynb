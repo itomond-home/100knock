{
 "cells": [
  {
   "attachments": {},
   "cell_type": "markdown",
   "metadata": {},
   "source": [
    "## Q.31. アフィン変換(スキュー)\n",
    "\n",
    "(1)アフィン変換を用いて、出力(1)のようなX-sharing(dx = 30)画像を作成せよ。\n",
    "\n",
    "(2)アフィン変換を用いて、出力2のようなY-sharing(dy = 30)画像を作成せよ。\n",
    "\n",
    "(3)アフィン変換を用いて、出力3のような幾何変換した(dx = 30, dy = 30)画像を作成せよ。\n",
    "\n",
    "このような画像はスキュー画像と呼ばれ、画像を斜め方向に伸ばした画像である。\n",
    "\n",
    "出力(1)の場合、x方向にdxだけ引き伸ばした画像はX-sharingと呼ばれる。\n",
    "\n",
    "出力(2)の場合、y方向にdyだけ引き伸ばした画像はY-sharingと呼ばれる。\n",
    "\n",
    "それぞれ次式のアフィン変換で実現できる。\n",
    "ただし、元画像のサイズがh x wとする。\n",
    "\n",
    "```bash\n",
    "(1) X-sharing                  (2) Y-sharing\n",
    "   a = dx / h                     a = dy / w\n",
    "\n",
    "  x'       1 a tx    x           x'       1 0 tx    x\n",
    "[ y' ] = [ 0 1 ty ][ y ]       [ y' ] = [ a 1 ty ][ y ]\n",
    "  1        0 0  1    1           1        0 0  1    1\n",
    "```"
   ]
  },
  {
   "cell_type": "code",
   "execution_count": 4,
   "metadata": {},
   "outputs": [
    {
     "data": {
      "text/plain": [
       "True"
      ]
     },
     "execution_count": 4,
     "metadata": {},
     "output_type": "execute_result"
    }
   ],
   "source": [
    "import cv2\n",
    "import numpy as np\n",
    "import matplotlib.pyplot as plt\n",
    "\n",
    "# Affine\n",
    "def affine(img, dx=30, dy=30):\n",
    "  H, W, C = img.shape\n",
    "\n",
    "  # Affine hyper parameters\n",
    "  a = 1.\n",
    "  b = dx / H\n",
    "  c = dy / W\n",
    "  d = 1.\n",
    "  tx = 0.\n",
    "  ty = 0.\n",
    "\n",
    "  # prepare temporary\n",
    "  _img = np.zeros((H+2, W+2, C), dtype=np.float32)\n",
    "\n",
    "  # insert image to center of temporary\n",
    "  _img[1:H+1, 1:W+1] = img\n",
    "\n",
    "  # prepare affine image temporary\n",
    "  H_new = np.ceil(dy + H).astype(np.int16)\n",
    "  W_new = np.ceil(dx + W).astype(np.int16)\n",
    "  out = np.zeros((H_new, W_new, C), dtype=np.float32)\n",
    "\n",
    "  # preprare assigned index\n",
    "  x_new = np.tile(np.arange(W_new), (H_new, 1))\n",
    "  y_new = np.arange(H_new).repeat(W_new).reshape(H_new, -1)\n",
    "\n",
    "  # prepare inverse matrix for affine\n",
    "  adbc = a * d - b * c\n",
    "  x = np.round((d * x_new  - b * y_new) / adbc).astype(np.int16) - tx + 1\n",
    "  y = np.round((-c * x_new + a * y_new) / adbc).astype(np.int16) - ty + 1\n",
    "\n",
    "  x = np.minimum(np.maximum(x, 0), W+1).astype(np.int16)\n",
    "  y = np.minimum(np.maximum(y, 0), H+1).astype(np.int16)\n",
    "\n",
    "  # assign value from original to affine image\n",
    "  out[y_new, x_new] = _img[y, x]\n",
    "  out = out.astype(np.uint8)\n",
    "\n",
    "  return out\n",
    "\n",
    "# Read image\n",
    "img = cv2.imread(\"imori.jpg\").astype(np.float32)\n",
    "\n",
    "# Affine\n",
    "out = affine(img, dx=30, dy=30)\n",
    "cv2.imwrite(\"training_IMG/training_31.png\", out)"
   ]
  },
  {
   "cell_type": "code",
   "execution_count": null,
   "metadata": {},
   "outputs": [],
   "source": []
  }
 ],
 "metadata": {
  "kernelspec": {
   "display_name": "100knock",
   "language": "python",
   "name": "python3"
  },
  "language_info": {
   "codemirror_mode": {
    "name": "ipython",
    "version": 3
   },
   "file_extension": ".py",
   "mimetype": "text/x-python",
   "name": "python",
   "nbconvert_exporter": "python",
   "pygments_lexer": "ipython3",
   "version": "3.9.0"
  },
  "orig_nbformat": 4
 },
 "nbformat": 4,
 "nbformat_minor": 2
}
